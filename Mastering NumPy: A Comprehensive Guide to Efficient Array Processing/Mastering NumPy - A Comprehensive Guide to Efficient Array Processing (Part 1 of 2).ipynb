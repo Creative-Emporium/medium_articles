{
 "cells": [
  {
   "cell_type": "code",
   "execution_count": 1,
   "id": "10d3367c",
   "metadata": {},
   "outputs": [
    {
     "name": "stdout",
     "output_type": "stream",
     "text": [
      "Requirement already satisfied: numpy in c:\\users\\envy\\anaconda3\\envs\\cv\\lib\\site-packages (1.25.0)\n"
     ]
    }
   ],
   "source": [
    "# Codeblock 1\n",
    "! pip install numpy"
   ]
  },
  {
   "cell_type": "code",
   "execution_count": 2,
   "id": "fa12f1f7",
   "metadata": {},
   "outputs": [
    {
     "data": {
      "text/plain": [
       "'1.25.0'"
      ]
     },
     "execution_count": 2,
     "metadata": {},
     "output_type": "execute_result"
    }
   ],
   "source": [
    "# Codeblock 2\n",
    "import numpy as np\n",
    "np.__version__"
   ]
  },
  {
   "cell_type": "code",
   "execution_count": 3,
   "id": "0c2a1bc9",
   "metadata": {},
   "outputs": [
    {
     "data": {
      "text/plain": [
       "array([7, 6, 5, 4, 3, 2])"
      ]
     },
     "execution_count": 3,
     "metadata": {},
     "output_type": "execute_result"
    }
   ],
   "source": [
    "# Codeblock 3\n",
    "np.array([7,6,5,4,3,2])\n",
    "\n",
    "### Alternative\n",
    "# np.asarray([7,6,5,4,3,2])"
   ]
  },
  {
   "cell_type": "code",
   "execution_count": 4,
   "id": "1ad9658c",
   "metadata": {},
   "outputs": [
    {
     "name": "stdout",
     "output_type": "stream",
     "text": [
      "[7 6 5 4 3 2]\n"
     ]
    }
   ],
   "source": [
    "# Codeblock 4\n",
    "print(np.asarray([7,6,5,4,3,2]))"
   ]
  },
  {
   "cell_type": "code",
   "execution_count": 5,
   "id": "5a87bd20",
   "metadata": {},
   "outputs": [
    {
     "data": {
      "text/plain": [
       "[7, 6, 5, 4, 3, 2]"
      ]
     },
     "execution_count": 5,
     "metadata": {},
     "output_type": "execute_result"
    }
   ],
   "source": [
    "# Codeblock 5\n",
    "[7,6,5,4,3,2]\n",
    "\n",
    "### Alternative\n",
    "# print([7,6,5,4,3,2])"
   ]
  },
  {
   "cell_type": "code",
   "execution_count": 6,
   "id": "dd60dcf6",
   "metadata": {},
   "outputs": [
    {
     "name": "stdout",
     "output_type": "stream",
     "text": [
      "[[7 6 5 4 3 2]\n",
      " [9 8 7 6 5 4]]\n",
      "\n",
      "[[7, 6, 5, 4, 3, 2], [9, 8, 7, 6, 5, 4]]\n"
     ]
    }
   ],
   "source": [
    "# Codeblock 6\n",
    "print(np.asarray([[7,6,5,4,3,2], \n",
    "                  [9,8,7,6,5,4]]), end='\\n\\n')\n",
    "\n",
    "print([[7,6,5,4,3,2], \n",
    "       [9,8,7,6,5,4]])"
   ]
  },
  {
   "cell_type": "code",
   "execution_count": 7,
   "id": "890fd899",
   "metadata": {},
   "outputs": [
    {
     "name": "stdout",
     "output_type": "stream",
     "text": [
      "[2 4 6 8]\n",
      "[2, 4, 6, 8]\n"
     ]
    }
   ],
   "source": [
    "# Codeblock 7\n",
    "A = [2,4,6,8]\n",
    "B = np.array(A)   # Convert to Numpy array.\n",
    "C = B.tolist()    # Convert to Python list.\n",
    "\n",
    "print(B)\n",
    "print(C)"
   ]
  },
  {
   "cell_type": "code",
   "execution_count": 8,
   "id": "87fa96ec",
   "metadata": {},
   "outputs": [
    {
     "name": "stdout",
     "output_type": "stream",
     "text": [
      "type(A): <class 'list'>\n",
      "type(B): <class 'numpy.ndarray'>\n",
      "type(C): <class 'list'>\n"
     ]
    }
   ],
   "source": [
    "# Codeblock 8\n",
    "print('type(A):', type(A))\n",
    "print('type(B):', type(B))\n",
    "print('type(C):', type(C))"
   ]
  },
  {
   "cell_type": "code",
   "execution_count": 9,
   "id": "f739e746",
   "metadata": {},
   "outputs": [
    {
     "data": {
      "text/plain": [
       "array([[99., 88., 77., 66.],\n",
       "       [11., 22., 33., 44.]])"
      ]
     },
     "execution_count": 9,
     "metadata": {},
     "output_type": "execute_result"
    }
   ],
   "source": [
    "# Codeblock 9\n",
    "np.genfromtxt('data.txt', delimiter=',')"
   ]
  },
  {
   "cell_type": "code",
   "execution_count": 10,
   "id": "b07c3800",
   "metadata": {},
   "outputs": [
    {
     "data": {
      "text/plain": [
       "[2, 'Hello', True, 9.886]"
      ]
     },
     "execution_count": 10,
     "metadata": {},
     "output_type": "execute_result"
    }
   ],
   "source": [
    "# Codeblock 10\n",
    "D = [2, 'Hello', True, 9.886]\n",
    "D"
   ]
  },
  {
   "cell_type": "code",
   "execution_count": 11,
   "id": "d9c8a200",
   "metadata": {},
   "outputs": [
    {
     "name": "stdout",
     "output_type": "stream",
     "text": [
      "['2' 'Hello' 'True' '9.886']\n",
      "['2', 'Hello', 'True', '9.886']\n"
     ]
    }
   ],
   "source": [
    "# Codeblock 11\n",
    "print(np.array(D))\n",
    "print(np.array(D).tolist())"
   ]
  },
  {
   "cell_type": "code",
   "execution_count": 12,
   "id": "dfae0e9c",
   "metadata": {},
   "outputs": [],
   "source": [
    "# Codeblock 12\n",
    "import time\n",
    "\n",
    "E = [123] * 9999999\n",
    "F = np.array(E, dtype='int8')"
   ]
  },
  {
   "cell_type": "code",
   "execution_count": 13,
   "id": "323f6191",
   "metadata": {},
   "outputs": [],
   "source": [
    "# Codeblock 13\n",
    "def summation_python_sum(arr):\n",
    "    start_time = time.time()\n",
    "    sum(arr)\n",
    "    end_time = time.time()\n",
    "\n",
    "    total_time = end_time - start_time\n",
    "    return total_time\n",
    "    \n",
    "def summation_numpy_sum(arr):\n",
    "    start_time = time.time()\n",
    "    np.sum(arr)\n",
    "    end_time = time.time()\n",
    "\n",
    "    total_time = end_time - start_time\n",
    "    return total_time"
   ]
  },
  {
   "cell_type": "code",
   "execution_count": 14,
   "id": "92cfd172",
   "metadata": {},
   "outputs": [
    {
     "name": "stdout",
     "output_type": "stream",
     "text": [
      "Python list with sum()\t\t:  0.06290745735168457 sec\n",
      "Python list with np.sum()\t:  0.7632937431335449 sec\n",
      "Numpy array with sum()\t\t:  1.9828064441680908 sec\n",
      "Numpy array with np.sum()\t:  0.021625757217407227 sec\n"
     ]
    }
   ],
   "source": [
    "# Codeblock 14\n",
    "print('Python list with sum()\\t\\t: ', summation_python_sum(E), 'sec')\n",
    "print('Python list with np.sum()\\t: ', summation_numpy_sum(E), 'sec')\n",
    "print('Numpy array with sum()\\t\\t: ', summation_python_sum(F), 'sec')\n",
    "print('Numpy array with np.sum()\\t: ', summation_numpy_sum(F), 'sec')"
   ]
  },
  {
   "cell_type": "code",
   "execution_count": 15,
   "id": "3de98270",
   "metadata": {},
   "outputs": [
    {
     "name": "stdout",
     "output_type": "stream",
     "text": [
      "E (Python list): 80000048 bytes\n",
      "F (Numpy array): 10000111 bytes\n"
     ]
    }
   ],
   "source": [
    "# Codeblock 15\n",
    "import sys\n",
    "\n",
    "print('E (Python list):', sys.getsizeof(E), 'bytes')\n",
    "print('F (Numpy array):', sys.getsizeof(F), 'bytes')"
   ]
  },
  {
   "cell_type": "code",
   "execution_count": 16,
   "id": "a0be4f55",
   "metadata": {},
   "outputs": [
    {
     "name": "stdout",
     "output_type": "stream",
     "text": [
      "int32\n",
      "int8\n"
     ]
    }
   ],
   "source": [
    "# Codeblock 16\n",
    "print(B.dtype)\n",
    "print(F.dtype)"
   ]
  },
  {
   "cell_type": "code",
   "execution_count": 17,
   "id": "70820df0",
   "metadata": {},
   "outputs": [
    {
     "name": "stdout",
     "output_type": "stream",
     "text": [
      "float64\n",
      "bool\n"
     ]
    }
   ],
   "source": [
    "# Codeblock 17\n",
    "print(np.array([5, 5, 5, 5.3, 5]).dtype)\n",
    "print(np.array([True, True, False]).dtype)"
   ]
  },
  {
   "cell_type": "code",
   "execution_count": 18,
   "id": "41e4c48f",
   "metadata": {},
   "outputs": [
    {
     "name": "stdout",
     "output_type": "stream",
     "text": [
      "Machine parameters for int8\n",
      "---------------------------------------------------------------\n",
      "min = -128\n",
      "max = 127\n",
      "---------------------------------------------------------------\n",
      "\n",
      "Machine parameters for int16\n",
      "---------------------------------------------------------------\n",
      "min = -32768\n",
      "max = 32767\n",
      "---------------------------------------------------------------\n",
      "\n",
      "Machine parameters for int32\n",
      "---------------------------------------------------------------\n",
      "min = -2147483648\n",
      "max = 2147483647\n",
      "---------------------------------------------------------------\n",
      "\n",
      "Machine parameters for int64\n",
      "---------------------------------------------------------------\n",
      "min = -9223372036854775808\n",
      "max = 9223372036854775807\n",
      "---------------------------------------------------------------\n",
      "\n"
     ]
    }
   ],
   "source": [
    "# Codeblock 18\n",
    "print(np.iinfo(np.int8))\n",
    "print(np.iinfo(np.int16))\n",
    "print(np.iinfo(np.int32))\n",
    "print(np.iinfo(np.int64))"
   ]
  },
  {
   "cell_type": "code",
   "execution_count": 19,
   "id": "05c97afd",
   "metadata": {},
   "outputs": [
    {
     "name": "stdout",
     "output_type": "stream",
     "text": [
      "Machine parameters for float16\n",
      "---------------------------------------------------------------\n",
      "precision =   3   resolution = 1.00040e-03\n",
      "machep =    -10   eps =        9.76562e-04\n",
      "negep =     -11   epsneg =     4.88281e-04\n",
      "minexp =    -14   tiny =       6.10352e-05\n",
      "maxexp =     16   max =        6.55040e+04\n",
      "nexp =        5   min =        -max\n",
      "smallest_normal = 6.10352e-05   smallest_subnormal = 5.96046e-08\n",
      "---------------------------------------------------------------\n",
      "\n",
      "Machine parameters for float32\n",
      "---------------------------------------------------------------\n",
      "precision =   6   resolution = 1.0000000e-06\n",
      "machep =    -23   eps =        1.1920929e-07\n",
      "negep =     -24   epsneg =     5.9604645e-08\n",
      "minexp =   -126   tiny =       1.1754944e-38\n",
      "maxexp =    128   max =        3.4028235e+38\n",
      "nexp =        8   min =        -max\n",
      "smallest_normal = 1.1754944e-38   smallest_subnormal = 1.4012985e-45\n",
      "---------------------------------------------------------------\n",
      "\n",
      "Machine parameters for float64\n",
      "---------------------------------------------------------------\n",
      "precision =  15   resolution = 1.0000000000000001e-15\n",
      "machep =    -52   eps =        2.2204460492503131e-16\n",
      "negep =     -53   epsneg =     1.1102230246251565e-16\n",
      "minexp =  -1022   tiny =       2.2250738585072014e-308\n",
      "maxexp =   1024   max =        1.7976931348623157e+308\n",
      "nexp =       11   min =        -max\n",
      "smallest_normal = 2.2250738585072014e-308   smallest_subnormal = 4.9406564584124654e-324\n",
      "---------------------------------------------------------------\n",
      "\n"
     ]
    }
   ],
   "source": [
    "# Codeblock 19\n",
    "print(np.finfo(np.float16))\n",
    "print(np.finfo(np.float32))\n",
    "print(np.finfo(np.float64))"
   ]
  },
  {
   "cell_type": "code",
   "execution_count": 20,
   "id": "46382b50",
   "metadata": {},
   "outputs": [],
   "source": [
    "# Codeblock 20\n",
    "G = np.array([9, 7, 5, 6, 4, 8, 2, 6, 9, 5, 2, 4, 1, 4])"
   ]
  },
  {
   "cell_type": "code",
   "execution_count": 21,
   "id": "bd8ffbf0",
   "metadata": {},
   "outputs": [
    {
     "name": "stdout",
     "output_type": "stream",
     "text": [
      "G[7]\t\t: 6\n",
      "G[-2]\t\t: 1\n",
      "G[:3]\t\t: [9 7 5]\n",
      "G[3:]\t\t: [6 4 8 2 6 9 5 2 4 1 4]\n",
      "G[2:6]\t\t: [5 6 4 8]\n",
      "G[1:7:2]\t: [7 6 8]\n",
      "G[::3]\t\t: [9 6 2 5 1]\n"
     ]
    }
   ],
   "source": [
    "# Codeblock 21\n",
    "print('G[7]\\t\\t:', G[7])        #(1)\n",
    "print('G[-2]\\t\\t:', G[-2])      #(2)\n",
    "print('G[:3]\\t\\t:', G[:3])      #(3)\n",
    "print('G[3:]\\t\\t:', G[3:])      #(4)\n",
    "print('G[2:6]\\t\\t:', G[2:6])    #(5)\n",
    "print('G[1:7:2]\\t:', G[1:7:2])  #(6)\n",
    "print('G[::3]\\t\\t:', G[::3])    #(7)"
   ]
  },
  {
   "cell_type": "code",
   "execution_count": 22,
   "id": "5ee49dc2",
   "metadata": {},
   "outputs": [
    {
     "name": "stdout",
     "output_type": "stream",
     "text": [
      "G[H]\t: [2 4 8 6 4 6]\n"
     ]
    }
   ],
   "source": [
    "# Codeblock 22\n",
    "H = np.array([6,4,5,7,4,3])\n",
    "print('G[H]\\t:', G[H])"
   ]
  },
  {
   "cell_type": "code",
   "execution_count": 23,
   "id": "f33369b2",
   "metadata": {},
   "outputs": [],
   "source": [
    "# Codeblock 23\n",
    "I = np.array([[3, 1, 5, 7], \n",
    "              [2, 5, 3, 2], \n",
    "              [3, 8, 5, 9],\n",
    "              [4, 8, 2, 6]])"
   ]
  },
  {
   "cell_type": "code",
   "execution_count": 24,
   "id": "9263171e",
   "metadata": {},
   "outputs": [
    {
     "data": {
      "text/plain": [
       "5"
      ]
     },
     "execution_count": 24,
     "metadata": {},
     "output_type": "execute_result"
    }
   ],
   "source": [
    "# Codeblock 24\n",
    "I[0,2]"
   ]
  },
  {
   "cell_type": "code",
   "execution_count": 25,
   "id": "0e3f6e82",
   "metadata": {},
   "outputs": [
    {
     "data": {
      "text/plain": [
       "array([[3, 1, 5],\n",
       "       [2, 5, 3]])"
      ]
     },
     "execution_count": 25,
     "metadata": {},
     "output_type": "execute_result"
    }
   ],
   "source": [
    "# Codeblock 25\n",
    "I[:2,:3]"
   ]
  },
  {
   "cell_type": "code",
   "execution_count": 26,
   "id": "c5eac470",
   "metadata": {},
   "outputs": [
    {
     "data": {
      "text/plain": [
       "array([[1, 5],\n",
       "       [5, 3],\n",
       "       [8, 5],\n",
       "       [8, 2]])"
      ]
     },
     "execution_count": 26,
     "metadata": {},
     "output_type": "execute_result"
    }
   ],
   "source": [
    "# Codeblock 26\n",
    "I[:,1:3]"
   ]
  },
  {
   "cell_type": "code",
   "execution_count": 27,
   "id": "d8282377",
   "metadata": {},
   "outputs": [
    {
     "data": {
      "text/plain": [
       "array([[1, 5],\n",
       "       [5, 3],\n",
       "       [8, 5]])"
      ]
     },
     "execution_count": 27,
     "metadata": {},
     "output_type": "execute_result"
    }
   ],
   "source": [
    "# Codeblock 27\n",
    "I[:-1,1:3]"
   ]
  },
  {
   "cell_type": "code",
   "execution_count": 28,
   "id": "2d2f3eaf",
   "metadata": {},
   "outputs": [
    {
     "data": {
      "text/plain": [
       "array([[3, 1, 5],\n",
       "       [3, 8, 5]])"
      ]
     },
     "execution_count": 28,
     "metadata": {},
     "output_type": "execute_result"
    }
   ],
   "source": [
    "# Codeblock 28\n",
    "I[[0,2], :3]"
   ]
  },
  {
   "cell_type": "code",
   "execution_count": 29,
   "id": "199b654f",
   "metadata": {},
   "outputs": [
    {
     "data": {
      "text/plain": [
       "array([3, 5, 5])"
      ]
     },
     "execution_count": 29,
     "metadata": {},
     "output_type": "execute_result"
    }
   ],
   "source": [
    "# Codeblock 29\n",
    "I[[0,1,2], [0,1,2]]"
   ]
  },
  {
   "cell_type": "code",
   "execution_count": 30,
   "id": "4010434d",
   "metadata": {},
   "outputs": [
    {
     "data": {
      "text/plain": [
       "array([1., 1., 1., 1., 1., 1., 1., 1., 1., 1.])"
      ]
     },
     "execution_count": 30,
     "metadata": {},
     "output_type": "execute_result"
    }
   ],
   "source": [
    "# Codeblock 30\n",
    "np.ones(10)"
   ]
  },
  {
   "cell_type": "code",
   "execution_count": 31,
   "id": "0976d68b",
   "metadata": {},
   "outputs": [
    {
     "data": {
      "text/plain": [
       "array([[0., 0., 0.],\n",
       "       [0., 0., 0.],\n",
       "       [0., 0., 0.],\n",
       "       [0., 0., 0.]])"
      ]
     },
     "execution_count": 31,
     "metadata": {},
     "output_type": "execute_result"
    }
   ],
   "source": [
    "# Codeblock 31\n",
    "np.zeros((4,3))"
   ]
  },
  {
   "cell_type": "code",
   "execution_count": 32,
   "id": "73c45c1d",
   "metadata": {},
   "outputs": [
    {
     "data": {
      "text/plain": [
       "array([[[0., 0., 0., 0., 0., 0.],\n",
       "        [0., 0., 0., 0., 0., 0.],\n",
       "        [0., 0., 0., 0., 0., 0.],\n",
       "        [0., 0., 0., 0., 0., 0.],\n",
       "        [0., 0., 0., 0., 0., 0.]],\n",
       "\n",
       "       [[0., 0., 0., 0., 0., 0.],\n",
       "        [0., 0., 0., 0., 0., 0.],\n",
       "        [0., 0., 0., 0., 0., 0.],\n",
       "        [0., 0., 0., 0., 0., 0.],\n",
       "        [0., 0., 0., 0., 0., 0.]],\n",
       "\n",
       "       [[0., 0., 0., 0., 0., 0.],\n",
       "        [0., 0., 0., 0., 0., 0.],\n",
       "        [0., 0., 0., 0., 0., 0.],\n",
       "        [0., 0., 0., 0., 0., 0.],\n",
       "        [0., 0., 0., 0., 0., 0.]],\n",
       "\n",
       "       [[0., 0., 0., 0., 0., 0.],\n",
       "        [0., 0., 0., 0., 0., 0.],\n",
       "        [0., 0., 0., 0., 0., 0.],\n",
       "        [0., 0., 0., 0., 0., 0.],\n",
       "        [0., 0., 0., 0., 0., 0.]]])"
      ]
     },
     "execution_count": 32,
     "metadata": {},
     "output_type": "execute_result"
    }
   ],
   "source": [
    "# Codeblock 32\n",
    "np.zeros((4,5,6))"
   ]
  },
  {
   "cell_type": "code",
   "execution_count": 33,
   "id": "6248cade",
   "metadata": {},
   "outputs": [
    {
     "data": {
      "text/plain": [
       "array([[1., 0., 0., 0., 0., 0.],\n",
       "       [0., 1., 0., 0., 0., 0.],\n",
       "       [0., 0., 1., 0., 0., 0.],\n",
       "       [0., 0., 0., 1., 0., 0.],\n",
       "       [0., 0., 0., 0., 1., 0.],\n",
       "       [0., 0., 0., 0., 0., 1.]])"
      ]
     },
     "execution_count": 33,
     "metadata": {},
     "output_type": "execute_result"
    }
   ],
   "source": [
    "# Codeblock 33\n",
    "np.identity(6)"
   ]
  },
  {
   "cell_type": "code",
   "execution_count": 34,
   "id": "6021ff6e",
   "metadata": {},
   "outputs": [
    {
     "data": {
      "text/plain": [
       "array([[0., 1., 0., 0.],\n",
       "       [0., 0., 1., 0.],\n",
       "       [0., 0., 0., 1.],\n",
       "       [0., 0., 0., 0.],\n",
       "       [0., 0., 0., 0.],\n",
       "       [0., 0., 0., 0.]])"
      ]
     },
     "execution_count": 34,
     "metadata": {},
     "output_type": "execute_result"
    }
   ],
   "source": [
    "# Codeblock 34\n",
    "np.eye(N=6, M=4, k=1)"
   ]
  },
  {
   "cell_type": "code",
   "execution_count": 35,
   "id": "66affbe1",
   "metadata": {},
   "outputs": [
    {
     "data": {
      "text/plain": [
       "array([[1, 0, 0, 0, 0],\n",
       "       [0, 4, 0, 0, 0],\n",
       "       [0, 0, 3, 0, 0],\n",
       "       [0, 0, 0, 4, 0],\n",
       "       [0, 0, 0, 0, 4]])"
      ]
     },
     "execution_count": 35,
     "metadata": {},
     "output_type": "execute_result"
    }
   ],
   "source": [
    "# Codeblock 35\n",
    "np.diag([1,4,3,4,4])"
   ]
  },
  {
   "cell_type": "code",
   "execution_count": 36,
   "id": "8568d5c7",
   "metadata": {},
   "outputs": [
    {
     "data": {
      "text/plain": [
       "array([[0.00e+000, 0.00e+000, 0.00e+000],\n",
       "       [0.00e+000, 0.00e+000, 9.03e-321],\n",
       "       [0.00e+000, 0.00e+000, 0.00e+000]])"
      ]
     },
     "execution_count": 36,
     "metadata": {},
     "output_type": "execute_result"
    }
   ],
   "source": [
    "# Codeblock 36\n",
    "np.empty((3,3))"
   ]
  },
  {
   "cell_type": "code",
   "execution_count": 37,
   "id": "446a6229",
   "metadata": {},
   "outputs": [
    {
     "data": {
      "text/plain": [
       "array([[999, 999, 999, 999, 999],\n",
       "       [999, 999, 999, 999, 999],\n",
       "       [999, 999, 999, 999, 999]])"
      ]
     },
     "execution_count": 37,
     "metadata": {},
     "output_type": "execute_result"
    }
   ],
   "source": [
    "# Codeblock 37\n",
    "J = np.full(shape=(3,5), fill_value=999)\n",
    "J"
   ]
  },
  {
   "cell_type": "code",
   "execution_count": 38,
   "id": "cd9a0d87",
   "metadata": {},
   "outputs": [
    {
     "data": {
      "text/plain": [
       "array([[111, 111, 111, 111, 111],\n",
       "       [111, 111, 111, 111, 111],\n",
       "       [111, 111, 111, 111, 111]])"
      ]
     },
     "execution_count": 38,
     "metadata": {},
     "output_type": "execute_result"
    }
   ],
   "source": [
    "# Codeblock 38\n",
    "np.full_like(J, fill_value=111)"
   ]
  },
  {
   "cell_type": "code",
   "execution_count": 39,
   "id": "571992f4",
   "metadata": {},
   "outputs": [
    {
     "name": "stdout",
     "output_type": "stream",
     "text": [
      "[[   0    0    0    0    0]\n",
      " [   0    0    0    0    0]\n",
      " [1860    0    0    0    0]]\n",
      "\n",
      "[[1 1 1 1 1]\n",
      " [1 1 1 1 1]\n",
      " [1 1 1 1 1]]\n",
      "\n",
      "[[0 0 0 0 0]\n",
      " [0 0 0 0 0]\n",
      " [0 0 0 0 0]]\n"
     ]
    }
   ],
   "source": [
    "# Codeblock 39\n",
    "print(np.empty_like(J), end='\\n\\n')\n",
    "print(np.ones_like(J), end='\\n\\n')\n",
    "print(np.zeros_like(J))"
   ]
  },
  {
   "cell_type": "code",
   "execution_count": 40,
   "id": "0709af6c",
   "metadata": {},
   "outputs": [
    {
     "data": {
      "text/plain": [
       "array([ 0,  1,  2,  3,  4,  5,  6,  7,  8,  9, 10, 11, 12, 13, 14, 15, 16,\n",
       "       17, 18, 19])"
      ]
     },
     "execution_count": 40,
     "metadata": {},
     "output_type": "execute_result"
    }
   ],
   "source": [
    "# Codeblock 40\n",
    "np.arange(20)"
   ]
  },
  {
   "cell_type": "code",
   "execution_count": 41,
   "id": "4d100794",
   "metadata": {},
   "outputs": [
    {
     "data": {
      "text/plain": [
       "[0, 1, 2, 3, 4, 5, 6, 7, 8, 9, 10, 11, 12, 13, 14, 15, 16, 17, 18, 19]"
      ]
     },
     "execution_count": 41,
     "metadata": {},
     "output_type": "execute_result"
    }
   ],
   "source": [
    "# Codeblock 41\n",
    "[i for i in range(20)]"
   ]
  },
  {
   "cell_type": "code",
   "execution_count": 42,
   "id": "74cf5be8",
   "metadata": {},
   "outputs": [
    {
     "name": "stdout",
     "output_type": "stream",
     "text": [
      "[ 3  5  7  9 11 13 15 17 19]\n",
      "\n",
      "[100  97  94  91  88  85  82  79  76  73  70  67  64  61  58  55  52  49\n",
      "  46  43  40  37  34  31  28  25  22  19  16  13  10   7   4   1]\n",
      "\n",
      "[20.  20.5 21.  21.5 22.  22.5 23.  23.5 24.  24.5 25.  25.5 26.  26.5\n",
      " 27.  27.5 28.  28.5 29.  29.5]\n"
     ]
    }
   ],
   "source": [
    "# Codeblock 42\n",
    "print(np.arange(3, 20, 2), end='\\n\\n')\n",
    "print(np.arange(100, 0, -3), end='\\n\\n')\n",
    "print(np.arange(20, 30, 0.5))"
   ]
  },
  {
   "cell_type": "code",
   "execution_count": 43,
   "id": "4db8b716",
   "metadata": {},
   "outputs": [
    {
     "data": {
      "text/plain": [
       "array([ 1.        ,  1.28571429,  1.57142857,  1.85714286,  2.14285714,\n",
       "        2.42857143,  2.71428571,  3.        ,  3.28571429,  3.57142857,\n",
       "        3.85714286,  4.14285714,  4.42857143,  4.71428571,  5.        ,\n",
       "        5.28571429,  5.57142857,  5.85714286,  6.14285714,  6.42857143,\n",
       "        6.71428571,  7.        ,  7.28571429,  7.57142857,  7.85714286,\n",
       "        8.14285714,  8.42857143,  8.71428571,  9.        ,  9.28571429,\n",
       "        9.57142857,  9.85714286, 10.14285714, 10.42857143, 10.71428571,\n",
       "       11.        , 11.28571429, 11.57142857, 11.85714286, 12.14285714,\n",
       "       12.42857143, 12.71428571, 13.        , 13.28571429, 13.57142857,\n",
       "       13.85714286, 14.14285714, 14.42857143, 14.71428571, 15.        ])"
      ]
     },
     "execution_count": 43,
     "metadata": {},
     "output_type": "execute_result"
    }
   ],
   "source": [
    "# Codeblock 43\n",
    "np.linspace(1, 15, 50)"
   ]
  },
  {
   "cell_type": "code",
   "execution_count": 44,
   "id": "5e69e330",
   "metadata": {},
   "outputs": [
    {
     "data": {
      "text/plain": [
       "array([ 1.        ,  1.05682204,  1.11687283,  1.18033582,  1.24740491,\n",
       "        1.318285  ,  1.39319265,  1.4723567 ,  1.55601901,  1.64443519,\n",
       "        1.73787535,  1.83662498,  1.94098576,  2.05127653,  2.16783425,\n",
       "        2.29101502,  2.42119517,  2.55877242,  2.70416709,  2.85782339,\n",
       "        3.02021075,  3.19182529,  3.37319131,  3.56486293,  3.76742572,\n",
       "        3.98149854,  4.20773541,  4.44682753,  4.69950535,  4.96654083,\n",
       "        5.24874982,  5.5469945 ,  5.86218605,  6.19528743,  6.54731631,\n",
       "        6.91934818,  7.31251967,  7.72803197,  8.16715452,  8.63122891,\n",
       "        9.12167296,  9.63998503, 10.18774866, 10.76663734, 11.37841965,\n",
       "       12.02496468, 12.70824772, 13.43035629, 14.19349655, 15.        ])"
      ]
     },
     "execution_count": 44,
     "metadata": {},
     "output_type": "execute_result"
    }
   ],
   "source": [
    "# Codeblock 44\n",
    "np.geomspace(1, 15, 50)"
   ]
  }
 ],
 "metadata": {
  "kernelspec": {
   "display_name": "Python 3 (ipykernel)",
   "language": "python",
   "name": "python3"
  },
  "language_info": {
   "codemirror_mode": {
    "name": "ipython",
    "version": 3
   },
   "file_extension": ".py",
   "mimetype": "text/x-python",
   "name": "python",
   "nbconvert_exporter": "python",
   "pygments_lexer": "ipython3",
   "version": "3.11.4"
  }
 },
 "nbformat": 4,
 "nbformat_minor": 5
}
