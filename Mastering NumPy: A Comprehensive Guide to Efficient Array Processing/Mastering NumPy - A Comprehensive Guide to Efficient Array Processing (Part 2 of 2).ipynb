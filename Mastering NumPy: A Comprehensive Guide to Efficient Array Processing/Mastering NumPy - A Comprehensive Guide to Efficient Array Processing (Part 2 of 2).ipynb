{
 "cells": [
  {
   "cell_type": "code",
   "execution_count": 1,
   "id": "9bb1f67b",
   "metadata": {},
   "outputs": [],
   "source": [
    "import numpy as np"
   ]
  },
  {
   "cell_type": "code",
   "execution_count": 2,
   "id": "44a6425d",
   "metadata": {},
   "outputs": [
    {
     "data": {
      "text/plain": [
       "array([[0.87795948, 0.71834295, 0.11476649],\n",
       "       [0.71235696, 0.96316946, 0.63879289],\n",
       "       [0.95263623, 0.4285279 , 0.7984052 ],\n",
       "       [0.84241418, 0.34051888, 0.69600689],\n",
       "       [0.18284161, 0.55107725, 0.09951073],\n",
       "       [0.37052771, 0.69301478, 0.97324294],\n",
       "       [0.72414599, 0.53061932, 0.64080504],\n",
       "       [0.11112488, 0.19274796, 0.80369146],\n",
       "       [0.20736015, 0.84645646, 0.78715247],\n",
       "       [0.41865752, 0.5720698 , 0.56006548]])"
      ]
     },
     "execution_count": 2,
     "metadata": {},
     "output_type": "execute_result"
    }
   ],
   "source": [
    "# Codeblock 1\n",
    "np.random.rand(10,3)\n",
    "\n",
    "### Alternative\n",
    "# np.random.random((10,3))"
   ]
  },
  {
   "cell_type": "code",
   "execution_count": 3,
   "id": "f1cc7e16",
   "metadata": {},
   "outputs": [
    {
     "data": {
      "text/plain": [
       "array([[98.99591296, 98.85724034, 90.60998422, 99.30668703, 94.11285037],\n",
       "       [98.26738835, 91.42659443, 94.58743394, 91.13097083, 94.77356274],\n",
       "       [99.89104943, 92.08434003, 94.07307819, 96.75311764, 92.15474227],\n",
       "       [93.21266059, 95.66651359, 92.39234969, 92.19379027, 99.97853143],\n",
       "       [97.35547444, 90.74519659, 97.5502148 , 90.61883099, 93.46254612]])"
      ]
     },
     "execution_count": 3,
     "metadata": {},
     "output_type": "execute_result"
    }
   ],
   "source": [
    "# Codeblock 2\n",
    "np.random.uniform(low=90, high=100, size=(5,5))"
   ]
  },
  {
   "cell_type": "code",
   "execution_count": 4,
   "id": "033576e2",
   "metadata": {},
   "outputs": [
    {
     "data": {
      "text/plain": [
       "(array([5015, 4983, 4971, 4987, 4974, 4987, 5039, 5020, 5061, 4963],\n",
       "       dtype=int64),\n",
       " array([2.94376781e-06, 1.00002428e-01, 2.00001913e-01, 3.00001397e-01,\n",
       "        4.00000881e-01, 5.00000366e-01, 5.99999850e-01, 6.99999335e-01,\n",
       "        7.99998819e-01, 8.99998304e-01, 9.99997788e-01]))"
      ]
     },
     "execution_count": 4,
     "metadata": {},
     "output_type": "execute_result"
    }
   ],
   "source": [
    "# Codeblock 3\n",
    "np.histogram(np.random.uniform(size=(50000)))\n",
    "\n",
    "### Yields similar results\n",
    "# np.histogram(np.random.rand(50000))\n",
    "# np.histogram(np.random.random(50000))"
   ]
  },
  {
   "cell_type": "code",
   "execution_count": 5,
   "id": "7f41f4a2",
   "metadata": {},
   "outputs": [
    {
     "data": {
      "text/plain": [
       "array([[-0.22917913, -0.26946   , -0.38110263, -0.90163866],\n",
       "       [ 0.2246656 ,  0.69667895,  0.23477174, -0.84008622],\n",
       "       [ 1.24863766, -0.62991932,  0.39750703, -0.11642637],\n",
       "       [ 0.60148971, -0.62418361,  1.38058558,  1.50621984],\n",
       "       [ 1.04694514, -0.18265206,  0.26660451, -0.09637222],\n",
       "       [-1.31459935, -1.03740177,  0.99494312, -0.01113753]])"
      ]
     },
     "execution_count": 5,
     "metadata": {},
     "output_type": "execute_result"
    }
   ],
   "source": [
    "# Codeblock 4\n",
    "np.random.randn(6,4)"
   ]
  },
  {
   "cell_type": "code",
   "execution_count": 6,
   "id": "4a4b5b8e",
   "metadata": {},
   "outputs": [
    {
     "data": {
      "text/plain": [
       "array([[ 6.10397213, 14.19336082,  4.18568954,  3.26823528,  5.29720425],\n",
       "       [ 6.05101422,  8.33009316, 13.59967775, 12.51753238,  8.48451606],\n",
       "       [ 6.03688367,  8.19199979, 13.26925765,  8.91263266,  9.42173102],\n",
       "       [11.0179358 , 11.24698877, 10.3014964 ,  5.08338416,  9.4522892 ],\n",
       "       [ 8.02396515,  8.7748047 , 10.93189712,  5.46683858, 13.66262551]])"
      ]
     },
     "execution_count": 6,
     "metadata": {},
     "output_type": "execute_result"
    }
   ],
   "source": [
    "# Codeblock 5\n",
    "np.random.normal(loc=8, scale=3, size=(5,5))"
   ]
  },
  {
   "cell_type": "code",
   "execution_count": 7,
   "id": "de7c4fc8",
   "metadata": {},
   "outputs": [
    {
     "data": {
      "text/plain": [
       "(array([   10,   155,  1375,  6141, 14106, 16203,  9066,  2558,   357,\n",
       "           29], dtype=int64),\n",
       " array([-4.44446431, -3.5871535 , -2.72984269, -1.87253187, -1.01522106,\n",
       "        -0.15791024,  0.69940057,  1.55671138,  2.4140222 ,  3.27133301,\n",
       "         4.12864382]))"
      ]
     },
     "execution_count": 7,
     "metadata": {},
     "output_type": "execute_result"
    }
   ],
   "source": [
    "# Codeblock 6\n",
    "np.histogram(np.random.normal(loc=0, scale=1, size=50000))\n",
    "\n",
    "### Yields similar result\n",
    "# np.histogram(np.random.randn(50000))"
   ]
  },
  {
   "cell_type": "code",
   "execution_count": 8,
   "id": "35e9e24f",
   "metadata": {},
   "outputs": [
    {
     "data": {
      "text/plain": [
       "array([[9, 5, 7],\n",
       "       [6, 6, 5],\n",
       "       [8, 7, 5],\n",
       "       [7, 9, 5],\n",
       "       [8, 7, 8],\n",
       "       [9, 5, 7],\n",
       "       [5, 8, 6],\n",
       "       [9, 5, 7],\n",
       "       [9, 7, 6],\n",
       "       [5, 9, 5],\n",
       "       [8, 6, 5],\n",
       "       [7, 7, 6],\n",
       "       [9, 7, 8],\n",
       "       [8, 8, 5],\n",
       "       [5, 7, 7],\n",
       "       [7, 7, 7],\n",
       "       [8, 8, 7],\n",
       "       [9, 6, 9],\n",
       "       [7, 9, 9],\n",
       "       [5, 8, 5]])"
      ]
     },
     "execution_count": 8,
     "metadata": {},
     "output_type": "execute_result"
    }
   ],
   "source": [
    "# Codeblock 7\n",
    "np.random.randint(low=5, high=10, size=(20,3))"
   ]
  },
  {
   "cell_type": "code",
   "execution_count": 9,
   "id": "734c08a9",
   "metadata": {},
   "outputs": [
    {
     "data": {
      "text/plain": [
       "array([22,  4,  3,  9, 28, 13,  9, 24, 13, 21])"
      ]
     },
     "execution_count": 9,
     "metadata": {},
     "output_type": "execute_result"
    }
   ],
   "source": [
    "# Codeblock 8\n",
    "K = np.random.randint(1, 30, size=10)\n",
    "K"
   ]
  },
  {
   "cell_type": "code",
   "execution_count": 10,
   "id": "c417bf42",
   "metadata": {},
   "outputs": [
    {
     "name": "stdout",
     "output_type": "stream",
     "text": [
      "K before shuffle\t:  [22  4  3  9 28 13  9 24 13 21]\n",
      "K after shuffle\t\t:  [ 9  3 28 13 24  9 21  4 13 22]\n"
     ]
    }
   ],
   "source": [
    "# Codeblock 9\n",
    "print('K before shuffle\\t: ', K)\n",
    "np.random.shuffle(K)\n",
    "print('K after shuffle\\t\\t: ', K)"
   ]
  },
  {
   "cell_type": "code",
   "execution_count": 11,
   "id": "6c19ee8a",
   "metadata": {},
   "outputs": [
    {
     "name": "stdout",
     "output_type": "stream",
     "text": [
      "24\n",
      "\n",
      "[[13 21  4]\n",
      " [13 24 22]]\n",
      "\n",
      "[[ 9 24  9 28]\n",
      " [13 21  3 13]]\n"
     ]
    }
   ],
   "source": [
    "# Codeblock 10\n",
    "print(np.random.choice(K), end='\\n\\n')                #(1)\n",
    "print(np.random.choice(K, size=(2,3)), end='\\n\\n')    #(2)\n",
    "print(np.random.choice(K, size=(2,4), replace=False)) #(3)"
   ]
  },
  {
   "cell_type": "code",
   "execution_count": 12,
   "id": "da8dbb45",
   "metadata": {},
   "outputs": [
    {
     "data": {
      "text/plain": [
       "array([[1, 3, 9, 8, 9],\n",
       "       [8, 2, 4, 5, 4]])"
      ]
     },
     "execution_count": 12,
     "metadata": {},
     "output_type": "execute_result"
    }
   ],
   "source": [
    "# Codeblock 11\n",
    "np.random.seed(99)\n",
    "np.random.randint(low=0, high=10, size=(2,5))"
   ]
  },
  {
   "cell_type": "code",
   "execution_count": 13,
   "id": "0263e3b0",
   "metadata": {},
   "outputs": [
    {
     "data": {
      "text/plain": [
       "array([[1, 3, 9, 8, 9],\n",
       "       [8, 2, 4, 5, 4]])"
      ]
     },
     "execution_count": 13,
     "metadata": {},
     "output_type": "execute_result"
    }
   ],
   "source": [
    "# Codeblock 12\n",
    "np.random.seed(99)\n",
    "np.random.randint(low=0, high=10, size=(2,5))"
   ]
  },
  {
   "cell_type": "code",
   "execution_count": 14,
   "id": "40615ac7",
   "metadata": {},
   "outputs": [
    {
     "name": "stdout",
     "output_type": "stream",
     "text": [
      "[55 66 77 88 99]\n"
     ]
    }
   ],
   "source": [
    "# Codeblock 13\n",
    "L = np.array([55, 66, 77, 88, 99])\n",
    "M = L\n",
    "print(M)"
   ]
  },
  {
   "cell_type": "code",
   "execution_count": 15,
   "id": "03274444",
   "metadata": {},
   "outputs": [
    {
     "name": "stdout",
     "output_type": "stream",
     "text": [
      "L: [15 66 77 88 99]\n",
      "M: [15 66 77 88 99]\n"
     ]
    }
   ],
   "source": [
    "# Codeblock 14\n",
    "M[0] = 15\n",
    "print('L:', L)\n",
    "print('M:', M)"
   ]
  },
  {
   "cell_type": "code",
   "execution_count": 16,
   "id": "803205a0",
   "metadata": {},
   "outputs": [
    {
     "name": "stdout",
     "output_type": "stream",
     "text": [
      "L: [55 66 77 88 99]\n",
      "M: [15 66 77 88 99]\n"
     ]
    }
   ],
   "source": [
    "# Codeblock 15\n",
    "L = np.array([55, 66, 77, 88, 99])\n",
    "M = L.copy()\n",
    "M[0] = 15\n",
    "\n",
    "print('L:', L)\n",
    "print('M:', M)"
   ]
  },
  {
   "cell_type": "code",
   "execution_count": 17,
   "id": "a4e2812e",
   "metadata": {},
   "outputs": [],
   "source": [
    "# Codeblock 16\n",
    "N = np.array([1,2,3], dtype='int32')\n",
    "O = np.array([4,5,6], dtype='int32')"
   ]
  },
  {
   "cell_type": "code",
   "execution_count": 18,
   "id": "c2b0fd31",
   "metadata": {},
   "outputs": [
    {
     "name": "stdout",
     "output_type": "stream",
     "text": [
      "[5 7 9]\n",
      "[-3 -3 -3]\n",
      "[ 4 10 18]\n",
      "[0.25 0.4  0.5 ]\n"
     ]
    }
   ],
   "source": [
    "# Codeblock 17\n",
    "print(N + O)\n",
    "print(N - O)\n",
    "print(N * O)\n",
    "print(N / O)"
   ]
  },
  {
   "cell_type": "code",
   "execution_count": 19,
   "id": "5547227c",
   "metadata": {},
   "outputs": [
    {
     "name": "stdout",
     "output_type": "stream",
     "text": [
      "[5 7 9]\n",
      "[-3 -3 -3]\n",
      "[ 4 10 18]\n",
      "[0.25 0.4  0.5 ]\n"
     ]
    }
   ],
   "source": [
    "# Codeblock 18\n",
    "print(np.add(N, O))\n",
    "print(np.subtract(N, O))\n",
    "print(np.multiply(N, O))\n",
    "print(np.divide(N, O))"
   ]
  },
  {
   "cell_type": "code",
   "execution_count": 20,
   "id": "a5fdc7b6",
   "metadata": {},
   "outputs": [
    {
     "name": "stdout",
     "output_type": "stream",
     "text": [
      "[6 7 8]\n",
      "[-4 -3 -2]\n",
      "[ 5 10 15]\n",
      "[0.2 0.4 0.6]\n"
     ]
    }
   ],
   "source": [
    "# Codeblock 19\n",
    "print(N + 5)\n",
    "print(N - 5)\n",
    "print(N * 5)\n",
    "print(N / 5)"
   ]
  },
  {
   "cell_type": "code",
   "execution_count": 21,
   "id": "547d8cb9",
   "metadata": {},
   "outputs": [
    {
     "data": {
      "text/plain": [
       "array([[ 14,  11],\n",
       "       [ 68,  56],\n",
       "       [122, 101],\n",
       "       [ 76,  66]])"
      ]
     },
     "execution_count": 21,
     "metadata": {},
     "output_type": "execute_result"
    }
   ],
   "source": [
    "# Codeblock 20\n",
    "O = np.array([[2, 1, 0], \n",
    "              [5, 4, 3], \n",
    "              [8, 7, 6], \n",
    "              [1, 0, 9]])\n",
    "\n",
    "P = np.array([[4, 3], \n",
    "              [6, 5], \n",
    "              [8, 7]])\n",
    "\n",
    "np.matmul(O, P)"
   ]
  },
  {
   "cell_type": "code",
   "execution_count": 22,
   "id": "fd32300e",
   "metadata": {},
   "outputs": [
    {
     "name": "stdout",
     "output_type": "stream",
     "text": [
      "[-1  1 -1 -1  1 -1  1  0  1  1]\n",
      "[ 56 -92  24  66 -72  75 -90   0 -32 -51]\n",
      "[56 92 24 66 72 75 90  0 32 51]\n"
     ]
    }
   ],
   "source": [
    "# Codeblock 21\n",
    "Q = np.array([-56, 92, -24, -66, 72, -75, 90, 0, 32, 51])\n",
    "\n",
    "print(np.sign(Q))\n",
    "print(np.negative(Q))\n",
    "print(np.abs(Q))      # Alternative: np.absolute()"
   ]
  },
  {
   "cell_type": "code",
   "execution_count": 23,
   "id": "c99e1e18",
   "metadata": {},
   "outputs": [
    {
     "name": "stdout",
     "output_type": "stream",
     "text": [
      "9\n",
      "[24 24 72]\n",
      "[24 48  9]\n"
     ]
    }
   ],
   "source": [
    "# Codeblock 22\n",
    "print(np.gcd(81, 72))    #(1)\n",
    "print(np.lcm([3, 6, 9], 24))    #(2)\n",
    "print(np.lcm([3, 12, 9], [24, 16, 3]))    #(3)"
   ]
  },
  {
   "cell_type": "code",
   "execution_count": 24,
   "id": "f87a75a3",
   "metadata": {},
   "outputs": [
    {
     "name": "stdout",
     "output_type": "stream",
     "text": [
      "512\n",
      "[ 1  4  9 16]\n",
      "12.0\n"
     ]
    }
   ],
   "source": [
    "# Codeblock 23\n",
    "print(np.power(8, 3))\n",
    "print(np.power([1,2,3,4], 2))\n",
    "print(np.power(144, 1/2))"
   ]
  },
  {
   "cell_type": "code",
   "execution_count": 25,
   "id": "d4960952",
   "metadata": {},
   "outputs": [
    {
     "name": "stdout",
     "output_type": "stream",
     "text": [
      "36\n",
      "[12.  4.  3.  2.]\n",
      "[7. 3.]\n",
      "[ 7.3890561  20.08553692 54.59815003]\n"
     ]
    }
   ],
   "source": [
    "# Codeblock 24\n",
    "print(np.square(6))             # Equivalent with: np.power(6,2)\n",
    "print(np.sqrt([144,16,9,4]))    # Equivalent with: np.power([144,16,9,4], 1/2)\n",
    "print(np.cbrt([343,27]))        # Equivalent with: np.power([343,27], 1/3)\n",
    "print(np.exp([2,3,4]))          # Equivalent with: np.power(np.e, [2,3,4])"
   ]
  },
  {
   "cell_type": "code",
   "execution_count": 26,
   "id": "786ba95f",
   "metadata": {},
   "outputs": [
    {
     "name": "stdout",
     "output_type": "stream",
     "text": [
      "[0.         1.57079633 3.14159265 4.71238898]\n",
      "[  0.  90. 180. 270.]\n"
     ]
    }
   ],
   "source": [
    "# Codeblock 25\n",
    "R = np.array([0, 90, 180, 270])    # Angles in degree\n",
    "S = np.array([0, np.pi/2, np.pi, np.pi*3/2])    # Angles in radian\n",
    "\n",
    "print(np.deg2rad(R))\n",
    "print(np.rad2deg(S))"
   ]
  },
  {
   "cell_type": "code",
   "execution_count": 27,
   "id": "742e41e1",
   "metadata": {},
   "outputs": [
    {
     "name": "stdout",
     "output_type": "stream",
     "text": [
      "[0.         0.70710678 0.8660254 ]\n",
      "[1.         0.70710678 0.5       ]\n",
      "[0.         1.         1.73205081]\n"
     ]
    }
   ],
   "source": [
    "# Codeblock 26\n",
    "T = np.deg2rad([0, 45, 60])\n",
    "\n",
    "print(np.sin(T))\n",
    "print(np.cos(T))\n",
    "print(np.tan(T))"
   ]
  },
  {
   "cell_type": "code",
   "execution_count": 28,
   "id": "ac5bd183",
   "metadata": {},
   "outputs": [
    {
     "name": "stdout",
     "output_type": "stream",
     "text": [
      "[0.         0.69314718 2.30258509 1.        ]\n",
      "[0.         1.         3.32192809 1.44269504]\n",
      "[0.         0.30103    1.         0.43429448]\n"
     ]
    }
   ],
   "source": [
    "# Codeblock 27\n",
    "U = [1, 2, 10, np.e]\n",
    "\n",
    "print(np.log(U))\n",
    "print(np.log2(U))\n",
    "print(np.log10(U))"
   ]
  },
  {
   "cell_type": "code",
   "execution_count": 29,
   "id": "27e12f2a",
   "metadata": {},
   "outputs": [
    {
     "name": "stdout",
     "output_type": "stream",
     "text": [
      "sum\t: 88\n",
      "mean\t: 4.631578947368421\n",
      "median\t: 4.0\n",
      "var\t: 6.232686980609418\n",
      "stddev\t: 2.4965349948697733\n",
      "q1\t: 3.0\n",
      "q2\t: 4.0\n",
      "q3\t: 6.5\n",
      "min\t: 0\n",
      "max\t: 9\n"
     ]
    }
   ],
   "source": [
    "# Codeblock 28\n",
    "V = np.array([1, 5, 4, 6, 8, 5, 4, 3, 2, 4, 7, 9, 5, 4, 3, 2, 0, 7, 9])\n",
    "\n",
    "print('sum\\t:', np.sum(V))\n",
    "print('mean\\t:', np.mean(V))\n",
    "print('median\\t:', np.median(V))\n",
    "print('var\\t:', np.var(V))\n",
    "print('stddev\\t:', np.std(V))\n",
    "print('q1\\t:', np.quantile(V, 0.25))\n",
    "print('q2\\t:', np.quantile(V, 0.5))\n",
    "print('q3\\t:', np.quantile(V, 0.75))\n",
    "print('min\\t:', np.min(V))\n",
    "print('max\\t:', np.max(V))"
   ]
  },
  {
   "cell_type": "code",
   "execution_count": 30,
   "id": "21191d2d",
   "metadata": {},
   "outputs": [
    {
     "name": "stdout",
     "output_type": "stream",
     "text": [
      "argmin\t: 16\n",
      "argmax\t: 11\n"
     ]
    }
   ],
   "source": [
    "# Codeblock 29\n",
    "print('argmin\\t:', np.argmin(V))\n",
    "print('argmax\\t:', np.argmax(V))"
   ]
  },
  {
   "cell_type": "code",
   "execution_count": 31,
   "id": "8dd2ace7",
   "metadata": {},
   "outputs": [],
   "source": [
    "# Codeblock 30\n",
    "W = np.array([10, 20, 30, 40])\n",
    "X = np.array([3, 4, 5, 6])"
   ]
  },
  {
   "cell_type": "code",
   "execution_count": 32,
   "id": "af0621d2",
   "metadata": {},
   "outputs": [
    {
     "data": {
      "text/plain": [
       "500"
      ]
     },
     "execution_count": 32,
     "metadata": {},
     "output_type": "execute_result"
    }
   ],
   "source": [
    "# Codeblock 31\n",
    "np.dot(W, X)"
   ]
  },
  {
   "cell_type": "code",
   "execution_count": 33,
   "id": "e9df1c85",
   "metadata": {},
   "outputs": [
    {
     "name": "stdout",
     "output_type": "stream",
     "text": [
      "500\n",
      "[[ 30  40  50  60]\n",
      " [ 60  80 100 120]\n",
      " [ 90 120 150 180]\n",
      " [120 160 200 240]]\n"
     ]
    }
   ],
   "source": [
    "# Codeblock 32\n",
    "print(np.inner(W, X))\n",
    "print(np.outer(W, X))"
   ]
  },
  {
   "cell_type": "code",
   "execution_count": 34,
   "id": "28376fb5",
   "metadata": {},
   "outputs": [],
   "source": [
    "# Codeblock 33\n",
    "Y = np.array([[2, 1, 0],\n",
    "              [0, 4, 5],\n",
    "              [2, 6, 3]])"
   ]
  },
  {
   "cell_type": "code",
   "execution_count": 35,
   "id": "69aba2d8",
   "metadata": {},
   "outputs": [
    {
     "data": {
      "text/plain": [
       "array([[2, 0, 2],\n",
       "       [1, 4, 6],\n",
       "       [0, 5, 3]])"
      ]
     },
     "execution_count": 35,
     "metadata": {},
     "output_type": "execute_result"
    }
   ],
   "source": [
    "# Codeblock 34\n",
    "np.transpose(Y)\n",
    "\n",
    "### Alternative\n",
    "# Y.T"
   ]
  },
  {
   "cell_type": "code",
   "execution_count": 36,
   "id": "ecb00e36",
   "metadata": {},
   "outputs": [
    {
     "data": {
      "text/plain": [
       "array([[ 0.69230769,  0.11538462, -0.19230769],\n",
       "       [-0.38461538, -0.23076923,  0.38461538],\n",
       "       [ 0.30769231,  0.38461538, -0.30769231]])"
      ]
     },
     "execution_count": 36,
     "metadata": {},
     "output_type": "execute_result"
    }
   ],
   "source": [
    "# Codeblock 35\n",
    "np.linalg.inv(Y)"
   ]
  },
  {
   "cell_type": "code",
   "execution_count": 37,
   "id": "fb6c7f00",
   "metadata": {},
   "outputs": [
    {
     "data": {
      "text/plain": [
       "-25.99999999999999"
      ]
     },
     "execution_count": 37,
     "metadata": {},
     "output_type": "execute_result"
    }
   ],
   "source": [
    "# Codeblock 36\n",
    "np.linalg.det(Y)"
   ]
  },
  {
   "cell_type": "code",
   "execution_count": 38,
   "id": "e297d181",
   "metadata": {},
   "outputs": [
    {
     "name": "stdout",
     "output_type": "stream",
     "text": [
      "[-1.75212771  1.6260023   9.12612541]\n",
      "\n",
      "[[-0.17223211 -0.92394503 -0.09751686]\n",
      " [ 0.64623686  0.34555331 -0.69491737]\n",
      " [-0.74344739 -0.16406855 -0.71244671]]\n"
     ]
    }
   ],
   "source": [
    "# Codeblock 37\n",
    "eigenvalues, eigenvectors = np.linalg.eig(Y)\n",
    "\n",
    "print(eigenvalues, end='\\n\\n')\n",
    "print(eigenvectors)"
   ]
  },
  {
   "cell_type": "code",
   "execution_count": 39,
   "id": "70a17fb7",
   "metadata": {},
   "outputs": [],
   "source": [
    "# Codeblock 38\n",
    "Z = np.array([True, True, True])\n",
    "AA = np.array([False, True, True])"
   ]
  },
  {
   "cell_type": "code",
   "execution_count": 40,
   "id": "8ef3116c",
   "metadata": {},
   "outputs": [
    {
     "name": "stdout",
     "output_type": "stream",
     "text": [
      "[False  True  True]\n",
      "[ True  True  True]\n",
      "[ True False False]\n"
     ]
    }
   ],
   "source": [
    "# Codeblock 39\n",
    "print(np.logical_and(Z, AA))\n",
    "print(np.logical_or(Z, AA))\n",
    "print(np.logical_xor(Z, AA))"
   ]
  },
  {
   "cell_type": "code",
   "execution_count": 41,
   "id": "2b013062",
   "metadata": {},
   "outputs": [
    {
     "name": "stdout",
     "output_type": "stream",
     "text": [
      "np.any(Z):  True\n",
      "np.all(Z):  True\n",
      "\n",
      "np.any(AA): True\n",
      "np.all(AA): False\n"
     ]
    }
   ],
   "source": [
    "# Codeblock 40\n",
    "print('np.any(Z): ', np.any(Z))\n",
    "print('np.all(Z): ', np.all(Z), end='\\n\\n')\n",
    "print('np.any(AA):', np.any(AA))\n",
    "print('np.all(AA):', np.all(AA))"
   ]
  },
  {
   "cell_type": "code",
   "execution_count": 42,
   "id": "3f8f238c",
   "metadata": {},
   "outputs": [
    {
     "name": "stdout",
     "output_type": "stream",
     "text": [
      "True\n",
      "False\n"
     ]
    }
   ],
   "source": [
    "# Codeblock 41\n",
    "AB = np.array([2, 0, 3, -5, 5, -1, 2, -4])\n",
    "\n",
    "print(np.any(AB > 4))    #(1)\n",
    "print(np.all(AB > 4))    #(2)"
   ]
  },
  {
   "cell_type": "code",
   "execution_count": 43,
   "id": "1571e313",
   "metadata": {},
   "outputs": [
    {
     "name": "stdout",
     "output_type": "stream",
     "text": [
      "12\n",
      "13\n",
      "1\n"
     ]
    }
   ],
   "source": [
    "# Codeblock 42\n",
    "print(np.bitwise_and(12, 13))\n",
    "print(np.bitwise_or(12, 13))\n",
    "print(np.bitwise_xor(12, 13))"
   ]
  },
  {
   "cell_type": "code",
   "execution_count": 44,
   "id": "7c665249",
   "metadata": {},
   "outputs": [
    {
     "name": "stdout",
     "output_type": "stream",
     "text": [
      "1100\n",
      "1101\n"
     ]
    }
   ],
   "source": [
    "# Codeblock 43\n",
    "print(np.binary_repr(12))\n",
    "print(np.binary_repr(13))"
   ]
  },
  {
   "cell_type": "code",
   "execution_count": 45,
   "id": "bb5d097e",
   "metadata": {},
   "outputs": [
    {
     "data": {
      "text/plain": [
       "array([ True, False, False, False, False,  True,  True,  True, False,\n",
       "       False, False, False, False, False])"
      ]
     },
     "execution_count": 45,
     "metadata": {},
     "output_type": "execute_result"
    }
   ],
   "source": [
    "# Codeblock 44\n",
    "AC = np.array([9, 4, 5, 3, 2, 6, 8, 6, 5, 4, 5, 5, 3, 2])\n",
    "\n",
    "mask = AC > 5  #(1)\n",
    "mask"
   ]
  },
  {
   "cell_type": "code",
   "execution_count": 46,
   "id": "424f234d",
   "metadata": {},
   "outputs": [
    {
     "data": {
      "text/plain": [
       "array([9, 6, 8, 6])"
      ]
     },
     "execution_count": 46,
     "metadata": {},
     "output_type": "execute_result"
    }
   ],
   "source": [
    "# Codeblock 45\n",
    "AC[mask]"
   ]
  },
  {
   "cell_type": "code",
   "execution_count": 47,
   "id": "647e05cc",
   "metadata": {},
   "outputs": [
    {
     "data": {
      "text/plain": [
       "array([9, 6, 8, 6])"
      ]
     },
     "execution_count": 47,
     "metadata": {},
     "output_type": "execute_result"
    }
   ],
   "source": [
    "# Codeblock 46\n",
    "AC[AC > 5]"
   ]
  },
  {
   "cell_type": "code",
   "execution_count": 48,
   "id": "ee786796",
   "metadata": {},
   "outputs": [
    {
     "data": {
      "text/plain": [
       "array([6, 8, 6])"
      ]
     },
     "execution_count": 48,
     "metadata": {},
     "output_type": "execute_result"
    }
   ],
   "source": [
    "# Codeblock 47\n",
    "AC[(AC > 5) & (AC != 9)]"
   ]
  },
  {
   "cell_type": "code",
   "execution_count": 49,
   "id": "728012c7",
   "metadata": {},
   "outputs": [
    {
     "data": {
      "text/plain": [
       "array([6, 8, 6])"
      ]
     },
     "execution_count": 49,
     "metadata": {},
     "output_type": "execute_result"
    }
   ],
   "source": [
    "# Codeblock 48\n",
    "AC[np.where((AC > 5) & (AC != 9))]"
   ]
  },
  {
   "cell_type": "code",
   "execution_count": 50,
   "id": "16ed1660",
   "metadata": {},
   "outputs": [
    {
     "data": {
      "text/plain": [
       "(array([5, 6, 7], dtype=int64),)"
      ]
     },
     "execution_count": 50,
     "metadata": {},
     "output_type": "execute_result"
    }
   ],
   "source": [
    "# Codeblock 49\n",
    "np.where((AC > 5) & (AC != 9))\n",
    "\n",
    "# Recall the elements of AC: [9, 4, 5, 3, 2, 6, 8, 6, 5, 4, 5, 5, 3, 2]."
   ]
  },
  {
   "cell_type": "code",
   "execution_count": 51,
   "id": "d8c8e5b3",
   "metadata": {},
   "outputs": [
    {
     "name": "stdout",
     "output_type": "stream",
     "text": [
      "[9 4 5 3 2 6 8 6 5 4 5 5 3 2]\n",
      "[0 6 7 5 4 0 0 0 7 6 7 7 5 4]\n"
     ]
    }
   ],
   "source": [
    "# Codeblock 50\n",
    "print(AC)\n",
    "print(np.where(AC > 5, 0, AC+2))"
   ]
  },
  {
   "cell_type": "code",
   "execution_count": 52,
   "id": "b7de57c6",
   "metadata": {},
   "outputs": [
    {
     "data": {
      "text/plain": [
       "(array([2, 3, 4, 5, 6, 8, 9]), array([2, 2, 2, 4, 2, 1, 1], dtype=int64))"
      ]
     },
     "execution_count": 52,
     "metadata": {},
     "output_type": "execute_result"
    }
   ],
   "source": [
    "# Codeblock 51\n",
    "np.unique(AC, return_counts=True)"
   ]
  },
  {
   "cell_type": "code",
   "execution_count": 53,
   "id": "3a497e24",
   "metadata": {},
   "outputs": [
    {
     "name": "stdout",
     "output_type": "stream",
     "text": [
      "[11 22 33 44 55 66 77 88 99]\n",
      "['Barack Obama' 'Bill Gates' 'Elon Musk' 'Joe Biden']\n"
     ]
    }
   ],
   "source": [
    "# Codeblock 52\n",
    "AD = np.array([77,33,44,99,22,88,55,11,66])\n",
    "AE = np.array([\"Elon Musk\", \"Bill Gates\", \"Joe Biden\", \"Barack Obama\"])\n",
    "\n",
    "print(np.sort(AD))\n",
    "print(np.sort(AE))"
   ]
  },
  {
   "cell_type": "code",
   "execution_count": 54,
   "id": "0f81c4a4",
   "metadata": {},
   "outputs": [
    {
     "name": "stdout",
     "output_type": "stream",
     "text": [
      "[99 88 77 66 55 44 33 22 11]\n",
      "['Joe Biden' 'Elon Musk' 'Bill Gates' 'Barack Obama']\n"
     ]
    }
   ],
   "source": [
    "# Codeblock 53\n",
    "print(np.flip(np.sort(AD)))\n",
    "print(np.flip(np.sort(AE)))\n",
    "\n",
    "### Alternative\n",
    "# print(np.sort(AD)[::-1])\n",
    "# print(np.sort(AE)[::-1])"
   ]
  },
  {
   "cell_type": "code",
   "execution_count": 55,
   "id": "91ddd817",
   "metadata": {},
   "outputs": [
    {
     "data": {
      "text/plain": [
       "array([7, 4, 1, 2, 6, 8, 0, 5, 3], dtype=int64)"
      ]
     },
     "execution_count": 55,
     "metadata": {},
     "output_type": "execute_result"
    }
   ],
   "source": [
    "# Codeblock 54\n",
    "np.argsort(AD)\n",
    "\n",
    "# Recall the elements of AD: [77, 33, 44, 99, 22, 88, 55, 11, 66]."
   ]
  },
  {
   "cell_type": "code",
   "execution_count": 56,
   "id": "f35be67a",
   "metadata": {},
   "outputs": [
    {
     "data": {
      "text/plain": [
       "array([11, 22, 33, 44, 55, 66, 77, 88, 99])"
      ]
     },
     "execution_count": 56,
     "metadata": {},
     "output_type": "execute_result"
    }
   ],
   "source": [
    "# Codeblock 55\n",
    "AD[np.argsort(AD)]"
   ]
  },
  {
   "cell_type": "code",
   "execution_count": 57,
   "id": "6cae794b",
   "metadata": {},
   "outputs": [],
   "source": [
    "# Codeblock 56\n",
    "AF = np.array([[3, 1, 5, 7],\n",
    "               [8, 9, 3, 2], \n",
    "               [4, 8, 2, 6]])"
   ]
  },
  {
   "cell_type": "code",
   "execution_count": 58,
   "id": "b039af58",
   "metadata": {},
   "outputs": [
    {
     "name": "stdout",
     "output_type": "stream",
     "text": [
      "[[3 1 2 2]\n",
      " [4 8 3 6]\n",
      " [8 9 5 7]]\n",
      "\n",
      "[[1 3 5 7]\n",
      " [2 3 8 9]\n",
      " [2 4 6 8]]\n"
     ]
    }
   ],
   "source": [
    "# Codeblock 57\n",
    "print(np.sort(AF, axis=0), end='\\n\\n')\n",
    "print(np.sort(AF, axis=1))"
   ]
  },
  {
   "cell_type": "code",
   "execution_count": 59,
   "id": "8736e3ba",
   "metadata": {},
   "outputs": [
    {
     "data": {
      "text/plain": [
       "array([ 0,  1,  2,  3,  4,  5,  6,  7,  8,  9, 10, 11, 12])"
      ]
     },
     "execution_count": 59,
     "metadata": {},
     "output_type": "execute_result"
    }
   ],
   "source": [
    "# Codeblock 58\n",
    "AG = np.arange(13)\n",
    "AG"
   ]
  },
  {
   "cell_type": "code",
   "execution_count": 60,
   "id": "527883ba",
   "metadata": {},
   "outputs": [
    {
     "name": "stdout",
     "output_type": "stream",
     "text": [
      "[10 11 12  0  1  2  3  4  5  6  7  8  9]\n",
      "[ 3  4  5  6  7  8  9 10 11 12  0  1  2]\n"
     ]
    }
   ],
   "source": [
    "# Codeblock 59\n",
    "print(np.roll(AG, shift=3))     #(1)\n",
    "print(np.roll(AG, shift=-3))    #(2)"
   ]
  },
  {
   "cell_type": "code",
   "execution_count": 61,
   "id": "8e179eb5",
   "metadata": {},
   "outputs": [
    {
     "data": {
      "text/plain": [
       "5"
      ]
     },
     "execution_count": 61,
     "metadata": {},
     "output_type": "execute_result"
    }
   ],
   "source": [
    "# Codeblock 60\n",
    "AH = np.array([[0,   1,  2,  3,  4,  5], \n",
    "               [6,   7,  8,  9, 10, 11], \n",
    "               [12, 13, 14, 15, 16, 17], \n",
    "               [18, 19, 20, 21, 22, 23], \n",
    "               [24, 25, 26, 27, 28, 29]])\n",
    "\n",
    "len(AH)"
   ]
  },
  {
   "cell_type": "code",
   "execution_count": 62,
   "id": "76e0b36f",
   "metadata": {},
   "outputs": [
    {
     "data": {
      "text/plain": [
       "(5, 6)"
      ]
     },
     "execution_count": 62,
     "metadata": {},
     "output_type": "execute_result"
    }
   ],
   "source": [
    "# Codeblock 61\n",
    "AH.shape"
   ]
  },
  {
   "cell_type": "code",
   "execution_count": 63,
   "id": "294be43c",
   "metadata": {},
   "outputs": [
    {
     "data": {
      "text/plain": [
       "array([[ 0,  1,  2,  3,  4,  5,  6,  7,  8,  9],\n",
       "       [10, 11, 12, 13, 14, 15, 16, 17, 18, 19],\n",
       "       [20, 21, 22, 23, 24, 25, 26, 27, 28, 29]])"
      ]
     },
     "execution_count": 63,
     "metadata": {},
     "output_type": "execute_result"
    }
   ],
   "source": [
    "# Codeblock 62\n",
    "AH.reshape(3,10)"
   ]
  },
  {
   "cell_type": "code",
   "execution_count": 64,
   "id": "391d2b76",
   "metadata": {},
   "outputs": [
    {
     "data": {
      "text/plain": [
       "array([[[ 0,  1,  2,  3,  4],\n",
       "        [ 5,  6,  7,  8,  9],\n",
       "        [10, 11, 12, 13, 14]],\n",
       "\n",
       "       [[15, 16, 17, 18, 19],\n",
       "        [20, 21, 22, 23, 24],\n",
       "        [25, 26, 27, 28, 29]]])"
      ]
     },
     "execution_count": 64,
     "metadata": {},
     "output_type": "execute_result"
    }
   ],
   "source": [
    "# Codeblock 63\n",
    "AH.reshape(2,3,5)"
   ]
  },
  {
   "cell_type": "code",
   "execution_count": 65,
   "id": "dd024fe9",
   "metadata": {},
   "outputs": [
    {
     "data": {
      "text/plain": [
       "array([[ 0,  1,  2,  3,  4],\n",
       "       [ 5,  6,  7,  8,  9],\n",
       "       [10, 11, 12, 13, 14],\n",
       "       [15, 16, 17, 18, 19],\n",
       "       [20, 21, 22, 23, 24],\n",
       "       [25, 26, 27, 28, 29]])"
      ]
     },
     "execution_count": 65,
     "metadata": {},
     "output_type": "execute_result"
    }
   ],
   "source": [
    "# Codeblock 64\n",
    "AH.reshape(-1,5)"
   ]
  },
  {
   "cell_type": "code",
   "execution_count": 66,
   "id": "11c09cda",
   "metadata": {},
   "outputs": [
    {
     "data": {
      "text/plain": [
       "array([[ 0],\n",
       "       [ 1],\n",
       "       [ 2],\n",
       "       [ 3],\n",
       "       [ 4],\n",
       "       [ 5],\n",
       "       [ 6],\n",
       "       [ 7],\n",
       "       [ 8],\n",
       "       [ 9],\n",
       "       [10],\n",
       "       [11],\n",
       "       [12],\n",
       "       [13],\n",
       "       [14],\n",
       "       [15],\n",
       "       [16],\n",
       "       [17],\n",
       "       [18],\n",
       "       [19],\n",
       "       [20],\n",
       "       [21],\n",
       "       [22],\n",
       "       [23],\n",
       "       [24],\n",
       "       [25],\n",
       "       [26],\n",
       "       [27],\n",
       "       [28],\n",
       "       [29]])"
      ]
     },
     "execution_count": 66,
     "metadata": {},
     "output_type": "execute_result"
    }
   ],
   "source": [
    "# Codeblock 65\n",
    "AH.reshape(-1,1)"
   ]
  },
  {
   "cell_type": "code",
   "execution_count": 67,
   "id": "67969c71",
   "metadata": {},
   "outputs": [
    {
     "data": {
      "text/plain": [
       "array([ 0,  1,  2,  3,  4,  5,  6,  7,  8,  9, 10, 11, 12, 13, 14, 15, 16,\n",
       "       17, 18, 19, 20, 21, 22, 23, 24, 25, 26, 27, 28, 29])"
      ]
     },
     "execution_count": 67,
     "metadata": {},
     "output_type": "execute_result"
    }
   ],
   "source": [
    "# Codeblock 66\n",
    "AH.flatten()\n",
    "\n",
    "### Alternative\n",
    "# AH.reshape(-1)"
   ]
  },
  {
   "cell_type": "code",
   "execution_count": 68,
   "id": "42a30273",
   "metadata": {},
   "outputs": [
    {
     "data": {
      "text/plain": [
       "array([[ 0],\n",
       "       [ 1],\n",
       "       [ 2],\n",
       "       [ 3],\n",
       "       [ 4],\n",
       "       [ 5],\n",
       "       [ 6],\n",
       "       [ 7],\n",
       "       [ 8],\n",
       "       [ 9],\n",
       "       [10],\n",
       "       [11],\n",
       "       [12],\n",
       "       [13],\n",
       "       [14],\n",
       "       [15],\n",
       "       [16],\n",
       "       [17],\n",
       "       [18],\n",
       "       [19],\n",
       "       [20],\n",
       "       [21],\n",
       "       [22],\n",
       "       [23],\n",
       "       [24],\n",
       "       [25],\n",
       "       [26],\n",
       "       [27],\n",
       "       [28],\n",
       "       [29]])"
      ]
     },
     "execution_count": 68,
     "metadata": {},
     "output_type": "execute_result"
    }
   ],
   "source": [
    "# Codeblock 67\n",
    "AH.flatten()[:, np.newaxis]\n",
    "\n",
    "### Alternative\n",
    "# AH.flatten().reshape(-1,1)"
   ]
  },
  {
   "cell_type": "code",
   "execution_count": 69,
   "id": "16610de6",
   "metadata": {},
   "outputs": [
    {
     "data": {
      "text/plain": [
       "array([[ 0,  1,  2,  3,  4,  5,  6,  7,  8,  9, 10, 11, 12, 13, 14, 15,\n",
       "        16, 17, 18, 19, 20, 21, 22, 23, 24, 25, 26, 27, 28, 29]])"
      ]
     },
     "execution_count": 69,
     "metadata": {},
     "output_type": "execute_result"
    }
   ],
   "source": [
    "# Codeblock 68\n",
    "AH.flatten()[np.newaxis, :]\n",
    "\n",
    "### Alternative\n",
    "# AH.flatten().reshape(1,-1)"
   ]
  },
  {
   "cell_type": "code",
   "execution_count": 70,
   "id": "afee6a93",
   "metadata": {},
   "outputs": [
    {
     "name": "stdout",
     "output_type": "stream",
     "text": [
      "[[1 3 1 1]\n",
      " [0 3 3 4]]\n",
      "\n",
      "[[7 5 9 5]\n",
      " [5 9 6 8]]\n"
     ]
    }
   ],
   "source": [
    "# Codeblock 69\n",
    "AI = np.array(np.random.randint(0, 5, (2,4)))\n",
    "AJ = np.array(np.random.randint(5, 10, (2,4)))\n",
    "\n",
    "print(AI, end='\\n\\n')\n",
    "print(AJ)"
   ]
  },
  {
   "cell_type": "code",
   "execution_count": 71,
   "id": "c7907b47",
   "metadata": {},
   "outputs": [
    {
     "data": {
      "text/plain": [
       "array([[1, 3, 1, 1],\n",
       "       [0, 3, 3, 4],\n",
       "       [7, 5, 9, 5],\n",
       "       [5, 9, 6, 8]])"
      ]
     },
     "execution_count": 71,
     "metadata": {},
     "output_type": "execute_result"
    }
   ],
   "source": [
    "# Codeblock 70\n",
    "np.vstack((AI,AJ))"
   ]
  },
  {
   "cell_type": "code",
   "execution_count": 72,
   "id": "647e32ec",
   "metadata": {},
   "outputs": [
    {
     "data": {
      "text/plain": [
       "array([[1, 3, 1, 1, 7, 5, 9, 5],\n",
       "       [0, 3, 3, 4, 5, 9, 6, 8]])"
      ]
     },
     "execution_count": 72,
     "metadata": {},
     "output_type": "execute_result"
    }
   ],
   "source": [
    "# Codeblock 71\n",
    "np.hstack((AI,AJ))"
   ]
  },
  {
   "cell_type": "code",
   "execution_count": 73,
   "id": "57c68fed",
   "metadata": {},
   "outputs": [
    {
     "name": "stdout",
     "output_type": "stream",
     "text": [
      "[[1 3 1 1]\n",
      " [0 3 3 4]\n",
      " [7 5 9 5]\n",
      " [5 9 6 8]\n",
      " [7 5 9 5]\n",
      " [5 9 6 8]\n",
      " [7 5 9 5]\n",
      " [5 9 6 8]\n",
      " [1 3 1 1]\n",
      " [0 3 3 4]]\n",
      "\n",
      "[[1 3 1 1 7 5 9 5 7 5 9 5 7 5 9 5 1 3 1 1]\n",
      " [0 3 3 4 5 9 6 8 5 9 6 8 5 9 6 8 0 3 3 4]]\n"
     ]
    }
   ],
   "source": [
    "# Codeblock 72\n",
    "print(np.vstack((AI,AJ,AJ,AJ,AI)), end='\\n\\n')\n",
    "print(np.hstack((AI,AJ,AJ,AJ,AI)))"
   ]
  },
  {
   "cell_type": "code",
   "execution_count": 74,
   "id": "b9091201",
   "metadata": {},
   "outputs": [
    {
     "name": "stdout",
     "output_type": "stream",
     "text": [
      "[1 3 1 1 0 3 3 4 7 5 9 5 5 9 6 8]\n",
      "\n",
      "[[1 3 1 1]\n",
      " [0 3 3 4]\n",
      " [7 5 9 5]\n",
      " [5 9 6 8]]\n",
      "\n",
      "[[1 3 1 1 7 5 9 5]\n",
      " [0 3 3 4 5 9 6 8]]\n"
     ]
    }
   ],
   "source": [
    "# Codeblock 73\n",
    "print(np.append(AI, AJ), end='\\n\\n')\n",
    "print(np.append(AI, AJ, axis=0), end='\\n\\n')\n",
    "print(np.append(AI, AJ, axis=1))"
   ]
  },
  {
   "cell_type": "code",
   "execution_count": 75,
   "id": "dba6a7cc",
   "metadata": {},
   "outputs": [
    {
     "name": "stdout",
     "output_type": "stream",
     "text": [
      "[1 3 1 1 0 3 3 4 1 3 1 1 0 3 3 4 1 3 1 1 0 3 3 4]\n",
      "\n",
      "[[1 3 1 1]\n",
      " [0 3 3 4]\n",
      " [1 3 1 1]\n",
      " [0 3 3 4]\n",
      " [1 3 1 1]\n",
      " [0 3 3 4]]\n",
      "\n",
      "[[1 3 1 1 1 3 1 1 1 3 1 1]\n",
      " [0 3 3 4 0 3 3 4 0 3 3 4]]\n"
     ]
    }
   ],
   "source": [
    "# Codeblock 74\n",
    "print(np.concatenate([AI, AI, AI], axis=None), end='\\n\\n')\n",
    "print(np.concatenate([AI, AI, AI]), end='\\n\\n')\n",
    "print(np.concatenate([AI, AI, AI], axis=1))"
   ]
  },
  {
   "cell_type": "code",
   "execution_count": 76,
   "id": "e97ded5c",
   "metadata": {},
   "outputs": [
    {
     "data": {
      "text/plain": [
       "array([7, 5, 4, 9, 1, 9, 0, 5, 9, 3, 3, 6, 2, 5, 0, 5, 1, 2, 1, 9])"
      ]
     },
     "execution_count": 76,
     "metadata": {},
     "output_type": "execute_result"
    }
   ],
   "source": [
    "# Codeblock 75\n",
    "AK = np.random.randint(0, 10, (20))\n",
    "AK"
   ]
  },
  {
   "cell_type": "code",
   "execution_count": 77,
   "id": "30513d74",
   "metadata": {},
   "outputs": [
    {
     "data": {
      "text/plain": [
       "[array([7, 5, 4]),\n",
       " array([9, 1]),\n",
       " array([9, 0, 5, 9, 3, 3, 6, 2, 5, 0, 5, 1, 2, 1, 9])]"
      ]
     },
     "execution_count": 77,
     "metadata": {},
     "output_type": "execute_result"
    }
   ],
   "source": [
    "# Codeblock 76\n",
    "np.split(AK, indices_or_sections=[3,5])"
   ]
  },
  {
   "cell_type": "code",
   "execution_count": 78,
   "id": "699e3743",
   "metadata": {},
   "outputs": [
    {
     "data": {
      "text/plain": [
       "array([[1, 3, 8, 8, 9, 2],\n",
       "       [9, 8, 0, 7, 3, 2],\n",
       "       [0, 6, 0, 2, 3, 2],\n",
       "       [8, 3, 5, 5, 9, 4],\n",
       "       [1, 4, 9, 7, 6, 5]])"
      ]
     },
     "execution_count": 78,
     "metadata": {},
     "output_type": "execute_result"
    }
   ],
   "source": [
    "# Codeblock 77\n",
    "AL = np.random.randint(0, 10, (5,6))\n",
    "AL"
   ]
  },
  {
   "cell_type": "code",
   "execution_count": 79,
   "id": "5acdf0d8",
   "metadata": {},
   "outputs": [
    {
     "data": {
      "text/plain": [
       "[array([[1, 3, 8, 8, 9, 2],\n",
       "        [9, 8, 0, 7, 3, 2]]),\n",
       " array([[0, 6, 0, 2, 3, 2],\n",
       "        [8, 3, 5, 5, 9, 4]]),\n",
       " array([[1, 4, 9, 7, 6, 5]])]"
      ]
     },
     "execution_count": 79,
     "metadata": {},
     "output_type": "execute_result"
    }
   ],
   "source": [
    "# Codeblock 78\n",
    "np.vsplit(AL, [2,4])\n",
    "\n",
    "### Alternative\n",
    "# np.split(AL, [2,4], axis=0)"
   ]
  },
  {
   "cell_type": "code",
   "execution_count": 80,
   "id": "82c957ba",
   "metadata": {},
   "outputs": [
    {
     "data": {
      "text/plain": [
       "[array([[1, 3, 8],\n",
       "        [9, 8, 0],\n",
       "        [0, 6, 0],\n",
       "        [8, 3, 5],\n",
       "        [1, 4, 9]]),\n",
       " array([[8],\n",
       "        [7],\n",
       "        [2],\n",
       "        [5],\n",
       "        [7]]),\n",
       " array([[9, 2],\n",
       "        [3, 2],\n",
       "        [3, 2],\n",
       "        [9, 4],\n",
       "        [6, 5]])]"
      ]
     },
     "execution_count": 80,
     "metadata": {},
     "output_type": "execute_result"
    }
   ],
   "source": [
    "# Codeblock 79\n",
    "np.hsplit(AL, [3,4])\n",
    "\n",
    "### Alternative\n",
    "# np.split(AL, [3,4], axis=1) #equivalent"
   ]
  }
 ],
 "metadata": {
  "kernelspec": {
   "display_name": "Python 3 (ipykernel)",
   "language": "python",
   "name": "python3"
  },
  "language_info": {
   "codemirror_mode": {
    "name": "ipython",
    "version": 3
   },
   "file_extension": ".py",
   "mimetype": "text/x-python",
   "name": "python",
   "nbconvert_exporter": "python",
   "pygments_lexer": "ipython3",
   "version": "3.11.4"
  }
 },
 "nbformat": 4,
 "nbformat_minor": 5
}
