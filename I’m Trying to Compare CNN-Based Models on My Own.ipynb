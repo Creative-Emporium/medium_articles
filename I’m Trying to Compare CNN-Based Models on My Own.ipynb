{
 "cells": [
  {
   "cell_type": "code",
   "execution_count": 1,
   "id": "234dd0e3",
   "metadata": {
    "_cell_guid": "b1076dfc-b9ad-4769-8c92-a6c4dae69d19",
    "_uuid": "8f2839f25d086af736a60e9eeb907d3b93b6e0e5",
    "execution": {
     "iopub.execute_input": "2023-01-23T06:40:13.515856Z",
     "iopub.status.busy": "2023-01-23T06:40:13.515303Z",
     "iopub.status.idle": "2023-01-23T06:40:15.076431Z",
     "shell.execute_reply": "2023-01-23T06:40:15.075438Z"
    },
    "papermill": {
     "duration": 1.570565,
     "end_time": "2023-01-23T06:40:15.078926",
     "exception": false,
     "start_time": "2023-01-23T06:40:13.508361",
     "status": "completed"
    },
    "tags": []
   },
   "outputs": [],
   "source": [
    "# Codeblock 1\n",
    "import torch\n",
    "import torch.nn as nn\n",
    "import torch.optim as optim\n",
    "import torchvision.datasets as datasets\n",
    "import torchvision.transforms as transforms\n",
    "import torchvision.models as models\n",
    "\n",
    "import numpy as np\n",
    "import matplotlib.pyplot as plt\n",
    "\n",
    "from torch.utils.data import DataLoader\n",
    "from tqdm import tqdm"
   ]
  },
  {
   "cell_type": "code",
   "execution_count": 2,
   "id": "2cc4fbbc",
   "metadata": {
    "execution": {
     "iopub.execute_input": "2023-01-23T06:40:15.092221Z",
     "iopub.status.busy": "2023-01-23T06:40:15.091101Z",
     "iopub.status.idle": "2023-01-23T06:40:27.750416Z",
     "shell.execute_reply": "2023-01-23T06:40:27.749283Z"
    },
    "papermill": {
     "duration": 12.667852,
     "end_time": "2023-01-23T06:40:27.753198",
     "exception": false,
     "start_time": "2023-01-23T06:40:15.085346",
     "status": "completed"
    },
    "tags": []
   },
   "outputs": [
    {
     "name": "stdout",
     "output_type": "stream",
     "text": [
      "Collecting torchinfo\r\n",
      "  Downloading torchinfo-1.7.1-py3-none-any.whl (22 kB)\r\n",
      "Installing collected packages: torchinfo\r\n",
      "Successfully installed torchinfo-1.7.1\r\n",
      "\u001b[33mWARNING: Running pip as the 'root' user can result in broken permissions and conflicting behaviour with the system package manager. It is recommended to use a virtual environment instead: https://pip.pypa.io/warnings/venv\u001b[0m\u001b[33m\r\n",
      "\u001b[0m"
     ]
    }
   ],
   "source": [
    "# Codeblock 2\n",
    "! pip install torchinfo\n",
    "from torchinfo import summary"
   ]
  },
  {
   "cell_type": "code",
   "execution_count": 3,
   "id": "d249c3b7",
   "metadata": {
    "execution": {
     "iopub.execute_input": "2023-01-23T06:40:27.763064Z",
     "iopub.status.busy": "2023-01-23T06:40:27.762730Z",
     "iopub.status.idle": "2023-01-23T06:40:27.819949Z",
     "shell.execute_reply": "2023-01-23T06:40:27.818941Z"
    },
    "papermill": {
     "duration": 0.064385,
     "end_time": "2023-01-23T06:40:27.821941",
     "exception": false,
     "start_time": "2023-01-23T06:40:27.757556",
     "status": "completed"
    },
    "tags": []
   },
   "outputs": [],
   "source": [
    "# Codeblock 3\n",
    "device = 'cuda' if torch.cuda.is_available() else 'cpu'"
   ]
  },
  {
   "cell_type": "code",
   "execution_count": 4,
   "id": "8f1e0edb",
   "metadata": {
    "execution": {
     "iopub.execute_input": "2023-01-23T06:40:27.831644Z",
     "iopub.status.busy": "2023-01-23T06:40:27.830842Z",
     "iopub.status.idle": "2023-01-23T06:40:27.836260Z",
     "shell.execute_reply": "2023-01-23T06:40:27.835379Z"
    },
    "papermill": {
     "duration": 0.012183,
     "end_time": "2023-01-23T06:40:27.838190",
     "exception": false,
     "start_time": "2023-01-23T06:40:27.826007",
     "status": "completed"
    },
    "tags": []
   },
   "outputs": [],
   "source": [
    "# Codeblock 4\n",
    "transform = transforms.Compose([transforms.ToTensor(), \n",
    "                                transforms.Resize((224,224)),\n",
    "                                transforms.Normalize(mean=(0.5), std=(0.5))])\n",
    "\n",
    "# Use transforms.Normalize(mean=[0.5,0.5,0.5], std=[0.5,0.5,0.5]) instead\n",
    "# when working on RGB images (CIFAR-10 and CIFAR-100)."
   ]
  },
  {
   "cell_type": "code",
   "execution_count": 5,
   "id": "4a2ad004",
   "metadata": {
    "execution": {
     "iopub.execute_input": "2023-01-23T06:40:27.847552Z",
     "iopub.status.busy": "2023-01-23T06:40:27.846923Z",
     "iopub.status.idle": "2023-01-23T06:40:32.168982Z",
     "shell.execute_reply": "2023-01-23T06:40:32.167822Z"
    },
    "papermill": {
     "duration": 4.329982,
     "end_time": "2023-01-23T06:40:32.172129",
     "exception": false,
     "start_time": "2023-01-23T06:40:27.842147",
     "status": "completed"
    },
    "tags": []
   },
   "outputs": [
    {
     "name": "stdout",
     "output_type": "stream",
     "text": [
      "Downloading http://yann.lecun.com/exdb/mnist/train-images-idx3-ubyte.gz\n",
      "Downloading http://yann.lecun.com/exdb/mnist/train-images-idx3-ubyte.gz to ./data/MNIST/raw/train-images-idx3-ubyte.gz\n"
     ]
    },
    {
     "data": {
      "application/vnd.jupyter.widget-view+json": {
       "model_id": "427e5e04df3b442589506233131a99de",
       "version_major": 2,
       "version_minor": 0
      },
      "text/plain": [
       "  0%|          | 0/9912422 [00:00<?, ?it/s]"
      ]
     },
     "metadata": {},
     "output_type": "display_data"
    },
    {
     "name": "stdout",
     "output_type": "stream",
     "text": [
      "Extracting ./data/MNIST/raw/train-images-idx3-ubyte.gz to ./data/MNIST/raw\n",
      "\n",
      "Downloading http://yann.lecun.com/exdb/mnist/train-labels-idx1-ubyte.gz\n",
      "Downloading http://yann.lecun.com/exdb/mnist/train-labels-idx1-ubyte.gz to ./data/MNIST/raw/train-labels-idx1-ubyte.gz\n"
     ]
    },
    {
     "data": {
      "application/vnd.jupyter.widget-view+json": {
       "model_id": "43899dca66fd4e8089950604d64f5348",
       "version_major": 2,
       "version_minor": 0
      },
      "text/plain": [
       "  0%|          | 0/28881 [00:00<?, ?it/s]"
      ]
     },
     "metadata": {},
     "output_type": "display_data"
    },
    {
     "name": "stdout",
     "output_type": "stream",
     "text": [
      "Extracting ./data/MNIST/raw/train-labels-idx1-ubyte.gz to ./data/MNIST/raw\n",
      "\n",
      "Downloading http://yann.lecun.com/exdb/mnist/t10k-images-idx3-ubyte.gz\n",
      "Downloading http://yann.lecun.com/exdb/mnist/t10k-images-idx3-ubyte.gz to ./data/MNIST/raw/t10k-images-idx3-ubyte.gz\n"
     ]
    },
    {
     "data": {
      "application/vnd.jupyter.widget-view+json": {
       "model_id": "61b94b8454924a6e9674b7b99dc981c6",
       "version_major": 2,
       "version_minor": 0
      },
      "text/plain": [
       "  0%|          | 0/1648877 [00:00<?, ?it/s]"
      ]
     },
     "metadata": {},
     "output_type": "display_data"
    },
    {
     "name": "stdout",
     "output_type": "stream",
     "text": [
      "Extracting ./data/MNIST/raw/t10k-images-idx3-ubyte.gz to ./data/MNIST/raw\n",
      "\n",
      "Downloading http://yann.lecun.com/exdb/mnist/t10k-labels-idx1-ubyte.gz\n",
      "Downloading http://yann.lecun.com/exdb/mnist/t10k-labels-idx1-ubyte.gz to ./data/MNIST/raw/t10k-labels-idx1-ubyte.gz\n"
     ]
    },
    {
     "data": {
      "application/vnd.jupyter.widget-view+json": {
       "model_id": "179e05e8a94c44c482e8a31c718d1705",
       "version_major": 2,
       "version_minor": 0
      },
      "text/plain": [
       "  0%|          | 0/4542 [00:00<?, ?it/s]"
      ]
     },
     "metadata": {},
     "output_type": "display_data"
    },
    {
     "name": "stdout",
     "output_type": "stream",
     "text": [
      "Extracting ./data/MNIST/raw/t10k-labels-idx1-ubyte.gz to ./data/MNIST/raw\n",
      "\n"
     ]
    }
   ],
   "source": [
    "# Codeblock 5\n",
    "train_dataset = datasets.MNIST(root='./data', train=True, download=True, \n",
    "                                  transform=transform)\n",
    "\n",
    "test_dataset  = datasets.MNIST(root='./data', train=False, download=True, \n",
    "                                  transform=transform)\n",
    "\n",
    "train_loader = DataLoader(train_dataset, batch_size=64, shuffle=True, drop_last=True)\n",
    "test_loader  = DataLoader(test_dataset, batch_size=64, shuffle=False, drop_last=True)\n",
    "\n",
    "# Use datasets.CIFAR10 or datasets.CIFAR100 instead to load the other datasets."
   ]
  },
  {
   "cell_type": "code",
   "execution_count": 6,
   "id": "c536914a",
   "metadata": {
    "execution": {
     "iopub.execute_input": "2023-01-23T06:40:32.185721Z",
     "iopub.status.busy": "2023-01-23T06:40:32.184559Z",
     "iopub.status.idle": "2023-01-23T06:40:32.195057Z",
     "shell.execute_reply": "2023-01-23T06:40:32.194115Z"
    },
    "papermill": {
     "duration": 0.018637,
     "end_time": "2023-01-23T06:40:32.197050",
     "exception": false,
     "start_time": "2023-01-23T06:40:32.178413",
     "status": "completed"
    },
    "tags": []
   },
   "outputs": [],
   "source": [
    "# Codeblock 6\n",
    "def train_model(model, loss_function, optimizer, have_aux=False, epochs=5):\n",
    "    train_losses = []    # Training and testing loss was calculated based on the last batch of each epoch.\n",
    "    test_losses  = []\n",
    "    train_accs = []\n",
    "    test_accs  = []\n",
    "\n",
    "    for epoch in range(epochs):\n",
    "        num_correct_train = 0\n",
    "        num_samples_train = 0\n",
    "        for batch, (X_train, y_train) in tqdm(enumerate(train_loader), total=(len(train_loader))):\n",
    "            # Move data to cuda if available\n",
    "            X_train = X_train.to(device)\n",
    "            y_train = y_train.to(device)\n",
    "\n",
    "            # Forward pass\n",
    "            if have_aux:\n",
    "                train_preds = model(X_train)[0]\n",
    "            else:\n",
    "                train_preds = model(X_train)\n",
    "            train_loss = loss_function(train_preds, y_train)\n",
    "\n",
    "            # Calculate train accuracy\n",
    "            with torch.no_grad():\n",
    "                rounded_train_preds = torch.max(train_preds, dim=1)[1]\n",
    "                num_correct_train += torch.sum(rounded_train_preds == y_train)\n",
    "                num_samples_train += len(y_train)\n",
    "\n",
    "            # Backward pass\n",
    "            optimizer.zero_grad()\n",
    "            train_loss.backward()\n",
    "\n",
    "            # Gradient descent\n",
    "            optimizer.step()\n",
    "\n",
    "        train_acc = num_correct_train/num_samples_train\n",
    "        test_loss, test_acc = predict_test_data(model, test_loader)\n",
    "\n",
    "        train_losses.append(train_loss.item())\n",
    "        test_losses.append(test_loss.item())\n",
    "        train_accs.append(train_acc.item())\n",
    "        test_accs.append(test_acc.item())\n",
    "\n",
    "        print(f'Epoch: {epoch} \\t|' \\\n",
    "                f' Train loss: {np.round(train_loss.item(),3)} \\t|' \\\n",
    "                f' Test loss: {np.round(test_loss.item(),3)} \\t|' \\\n",
    "                f' Train acc: {np.round(train_acc.item(),2)} \\t|' \\\n",
    "                f' Test acc: {np.round(test_acc.item(),2)}')\n",
    "    \n",
    "    return model, train_losses, test_losses, train_accs, test_accs"
   ]
  },
  {
   "cell_type": "code",
   "execution_count": 7,
   "id": "cbc4a551",
   "metadata": {
    "execution": {
     "iopub.execute_input": "2023-01-23T06:40:32.208844Z",
     "iopub.status.busy": "2023-01-23T06:40:32.208340Z",
     "iopub.status.idle": "2023-01-23T06:40:32.214844Z",
     "shell.execute_reply": "2023-01-23T06:40:32.213820Z"
    },
    "papermill": {
     "duration": 0.014887,
     "end_time": "2023-01-23T06:40:32.217179",
     "exception": false,
     "start_time": "2023-01-23T06:40:32.202292",
     "status": "completed"
    },
    "tags": []
   },
   "outputs": [],
   "source": [
    "# Codeblock 7\n",
    "def predict_test_data(model, test_loader):\n",
    "    \n",
    "    num_correct = 0\n",
    "    num_samples = 0\n",
    "    \n",
    "    model.eval() #a\n",
    "    \n",
    "    with torch.no_grad():\n",
    "        for batch, (X_test, y_test) in enumerate(test_loader):\n",
    "            X_test = X_test.to(device)\n",
    "            y_test = y_test.to(device)\n",
    "\n",
    "            # Calculate loss (forward propagation)\n",
    "            test_preds = model(X_test)\n",
    "            test_loss  = loss_function(test_preds, y_test)\n",
    "            \n",
    "            # Calculate accuracy\n",
    "            rounded_test_preds = torch.max(test_preds, dim=1)[1]\n",
    "            num_correct += torch.sum(rounded_test_preds == y_test)\n",
    "            num_samples += len(y_test)\n",
    "        \n",
    "    model.train() #b\n",
    "    \n",
    "    test_acc = num_correct/num_samples\n",
    "    \n",
    "    return test_loss, test_acc"
   ]
  },
  {
   "cell_type": "code",
   "execution_count": 8,
   "id": "57799e71",
   "metadata": {
    "execution": {
     "iopub.execute_input": "2023-01-23T06:40:32.228137Z",
     "iopub.status.busy": "2023-01-23T06:40:32.227696Z",
     "iopub.status.idle": "2023-01-23T06:40:34.985558Z",
     "shell.execute_reply": "2023-01-23T06:40:34.984551Z"
    },
    "papermill": {
     "duration": 2.765946,
     "end_time": "2023-01-23T06:40:34.988000",
     "exception": false,
     "start_time": "2023-01-23T06:40:32.222054",
     "status": "completed"
    },
    "tags": []
   },
   "outputs": [],
   "source": [
    "# Codeblock 8\n",
    "resnet = models.resnet18().to(device)\n",
    "\n",
    "# Set output neurons to 10 (MNIST and CIFAR-10).\n",
    "resnet.fc = nn.Linear(in_features=512, out_features=10).to(device)\n",
    "\n",
    "# Set input layer to accept 1 channel (MNIST).\n",
    "resnet.conv1 = nn.Conv2d(in_channels=1, out_channels=64, kernel_size=(7, 7), \n",
    "                         stride=(2, 2), padding=(3, 3), bias=False).to(device)\n",
    "\n",
    "# Input layer should not be changed when working with CIFAR datasets."
   ]
  },
  {
   "cell_type": "code",
   "execution_count": 9,
   "id": "9667a00b",
   "metadata": {
    "execution": {
     "iopub.execute_input": "2023-01-23T06:40:35.000321Z",
     "iopub.status.busy": "2023-01-23T06:40:34.999923Z",
     "iopub.status.idle": "2023-01-23T06:40:38.187284Z",
     "shell.execute_reply": "2023-01-23T06:40:38.186283Z"
    },
    "papermill": {
     "duration": 3.196652,
     "end_time": "2023-01-23T06:40:38.190044",
     "exception": false,
     "start_time": "2023-01-23T06:40:34.993392",
     "status": "completed"
    },
    "tags": []
   },
   "outputs": [
    {
     "name": "stderr",
     "output_type": "stream",
     "text": [
      "/opt/conda/lib/python3.7/site-packages/torchvision/models/googlenet.py:50: FutureWarning: The default weight initialization of GoogleNet will be changed in future releases of torchvision. If you wish to keep the old behavior (which leads to long initialization times due to scipy/scipy#11299), please set init_weights=True.\n",
      "  FutureWarning,\n"
     ]
    }
   ],
   "source": [
    "# Codeblock 9\n",
    "\n",
    "###### GoogLeNet (Inception v1) ######\n",
    "googlenet = models.googlenet().to(device)\n",
    "googlenet.fc = nn.Linear(in_features=1024, out_features=10).to(device)\n",
    "\n",
    "# Remove this line when working with CIFAR datasets.\n",
    "googlenet.conv1.conv = nn.Conv2d(1, 64, kernel_size=(7, 7), stride=(2, 2), \n",
    "                                 padding=(3, 3), bias=False).to(device)\n",
    "\n",
    "###### VGG ######\n",
    "vgg = models.vgg11().to(device)\n",
    "vgg.classifier[6] = nn.Linear(in_features=4096, out_features=10).to(device)\n",
    "\n",
    "# Remove this line when working with CIFAR datasets.\n",
    "vgg.features[0] = nn.Conv2d(1, 64, kernel_size=(3, 3), stride=(1, 1), \n",
    "                            padding=(1, 1)).to(device)\n",
    "\n",
    "###### MobileNet ######\n",
    "mobilenet = models.mobilenet_v3_small().to(device)\n",
    "mobilenet.classifier[3] = nn.Linear(in_features=1024, out_features=10).to(device)\n",
    "\n",
    "# Remove this line when working with CIFAR datasets.\n",
    "mobilenet.features[0][0] = nn.Conv2d(1, 16, kernel_size=(3, 3), stride=(2, 2), \n",
    "                                     padding=(1, 1), bias=False).to(device)\n",
    "\n",
    "###### AlexNet ######\n",
    "alexnet = models.alexnet().to(device)\n",
    "alexnet.classifier[6] = nn.Linear(in_features=4096, out_features=10).to(device)\n",
    "\n",
    "# Remove this line when working with CIFAR datasets.\n",
    "alexnet.features[0] = nn.Conv2d(1, 64, kernel_size=(11, 11), stride=(4, 4), \n",
    "                                padding=(2, 2)).to(device)"
   ]
  },
  {
   "cell_type": "code",
   "execution_count": 10,
   "id": "53d5a5bf",
   "metadata": {
    "execution": {
     "iopub.execute_input": "2023-01-23T06:40:38.201753Z",
     "iopub.status.busy": "2023-01-23T06:40:38.201421Z",
     "iopub.status.idle": "2023-01-23T06:40:38.210873Z",
     "shell.execute_reply": "2023-01-23T06:40:38.209660Z"
    },
    "papermill": {
     "duration": 0.017845,
     "end_time": "2023-01-23T06:40:38.213203",
     "exception": false,
     "start_time": "2023-01-23T06:40:38.195358",
     "status": "completed"
    },
    "tags": []
   },
   "outputs": [],
   "source": [
    "# Codeblock 10\n",
    "loss_function = nn.CrossEntropyLoss()\n",
    "\n",
    "optim_resnet    = optim.Adam(resnet.parameters(), lr=0.001)\n",
    "optim_googlenet = optim.Adam(googlenet.parameters(), lr=0.001)\n",
    "optim_vgg       = optim.Adam(vgg.parameters(), lr=0.001)\n",
    "optim_mobilenet = optim.Adam(mobilenet.parameters(), lr=0.001)\n",
    "optim_alexnet   = optim.Adam(alexnet.parameters(), lr=0.001)"
   ]
  },
  {
   "cell_type": "code",
   "execution_count": 11,
   "id": "f77eabf3",
   "metadata": {
    "execution": {
     "iopub.execute_input": "2023-01-23T06:40:38.224968Z",
     "iopub.status.busy": "2023-01-23T06:40:38.224661Z",
     "iopub.status.idle": "2023-01-23T07:53:48.006542Z",
     "shell.execute_reply": "2023-01-23T07:53:48.005478Z"
    },
    "papermill": {
     "duration": 4390.957549,
     "end_time": "2023-01-23T07:53:49.176091",
     "exception": false,
     "start_time": "2023-01-23T06:40:38.218542",
     "status": "completed"
    },
    "tags": []
   },
   "outputs": [
    {
     "name": "stderr",
     "output_type": "stream",
     "text": [
      "100%|██████████| 937/937 [01:47<00:00,  8.70it/s]\n"
     ]
    },
    {
     "name": "stdout",
     "output_type": "stream",
     "text": [
      "Epoch: 0 \t| Train loss: 0.012 \t| Test loss: 0.04 \t| Train acc: 0.97 \t| Test acc: 0.99\n"
     ]
    },
    {
     "name": "stderr",
     "output_type": "stream",
     "text": [
      "100%|██████████| 937/937 [01:39<00:00,  9.39it/s]\n"
     ]
    },
    {
     "name": "stdout",
     "output_type": "stream",
     "text": [
      "Epoch: 1 \t| Train loss: 0.01 \t| Test loss: 0.002 \t| Train acc: 0.99 \t| Test acc: 0.99\n"
     ]
    },
    {
     "name": "stderr",
     "output_type": "stream",
     "text": [
      "100%|██████████| 937/937 [01:40<00:00,  9.33it/s]\n"
     ]
    },
    {
     "name": "stdout",
     "output_type": "stream",
     "text": [
      "Epoch: 2 \t| Train loss: 0.029 \t| Test loss: 0.012 \t| Train acc: 0.99 \t| Test acc: 0.99\n"
     ]
    },
    {
     "name": "stderr",
     "output_type": "stream",
     "text": [
      "100%|██████████| 937/937 [01:39<00:00,  9.40it/s]\n"
     ]
    },
    {
     "name": "stdout",
     "output_type": "stream",
     "text": [
      "Epoch: 3 \t| Train loss: 0.004 \t| Test loss: 0.002 \t| Train acc: 0.99 \t| Test acc: 0.99\n"
     ]
    },
    {
     "name": "stderr",
     "output_type": "stream",
     "text": [
      "100%|██████████| 937/937 [01:39<00:00,  9.41it/s]\n"
     ]
    },
    {
     "name": "stdout",
     "output_type": "stream",
     "text": [
      "Epoch: 4 \t| Train loss: 0.141 \t| Test loss: 0.001 \t| Train acc: 0.99 \t| Test acc: 0.99\n"
     ]
    },
    {
     "name": "stderr",
     "output_type": "stream",
     "text": [
      "  0%|          | 0/937 [00:00<?, ?it/s]/opt/conda/lib/python3.7/site-packages/torch/nn/functional.py:780: UserWarning: Note that order of the arguments: ceil_mode and return_indices will changeto match the args list in nn.MaxPool2d in a future release.\n",
      "  warnings.warn(\"Note that order of the arguments: ceil_mode and return_indices will change\"\n",
      "100%|██████████| 937/937 [03:45<00:00,  4.15it/s]\n"
     ]
    },
    {
     "name": "stdout",
     "output_type": "stream",
     "text": [
      "Epoch: 0 \t| Train loss: 0.062 \t| Test loss: 0.005 \t| Train acc: 0.96 \t| Test acc: 0.99\n"
     ]
    },
    {
     "name": "stderr",
     "output_type": "stream",
     "text": [
      "100%|██████████| 937/937 [03:46<00:00,  4.14it/s]\n"
     ]
    },
    {
     "name": "stdout",
     "output_type": "stream",
     "text": [
      "Epoch: 1 \t| Train loss: 0.069 \t| Test loss: 0.122 \t| Train acc: 0.98 \t| Test acc: 0.96\n"
     ]
    },
    {
     "name": "stderr",
     "output_type": "stream",
     "text": [
      "100%|██████████| 937/937 [03:46<00:00,  4.13it/s]\n"
     ]
    },
    {
     "name": "stdout",
     "output_type": "stream",
     "text": [
      "Epoch: 2 \t| Train loss: 0.045 \t| Test loss: 0.056 \t| Train acc: 0.99 \t| Test acc: 0.98\n"
     ]
    },
    {
     "name": "stderr",
     "output_type": "stream",
     "text": [
      "100%|██████████| 937/937 [03:47<00:00,  4.12it/s]\n"
     ]
    },
    {
     "name": "stdout",
     "output_type": "stream",
     "text": [
      "Epoch: 3 \t| Train loss: 0.004 \t| Test loss: 0.002 \t| Train acc: 0.99 \t| Test acc: 0.99\n"
     ]
    },
    {
     "name": "stderr",
     "output_type": "stream",
     "text": [
      "100%|██████████| 937/937 [03:47<00:00,  4.11it/s]\n"
     ]
    },
    {
     "name": "stdout",
     "output_type": "stream",
     "text": [
      "Epoch: 4 \t| Train loss: 0.001 \t| Test loss: 0.003 \t| Train acc: 0.99 \t| Test acc: 0.99\n"
     ]
    },
    {
     "name": "stderr",
     "output_type": "stream",
     "text": [
      "100%|██████████| 937/937 [03:51<00:00,  4.05it/s]\n"
     ]
    },
    {
     "name": "stdout",
     "output_type": "stream",
     "text": [
      "Epoch: 0 \t| Train loss: 0.007 \t| Test loss: 0.008 \t| Train acc: 0.91 \t| Test acc: 0.99\n"
     ]
    },
    {
     "name": "stderr",
     "output_type": "stream",
     "text": [
      "100%|██████████| 937/937 [03:51<00:00,  4.04it/s]\n"
     ]
    },
    {
     "name": "stdout",
     "output_type": "stream",
     "text": [
      "Epoch: 1 \t| Train loss: 0.02 \t| Test loss: 0.0 \t| Train acc: 0.98 \t| Test acc: 0.99\n"
     ]
    },
    {
     "name": "stderr",
     "output_type": "stream",
     "text": [
      "100%|██████████| 937/937 [03:51<00:00,  4.04it/s]\n"
     ]
    },
    {
     "name": "stdout",
     "output_type": "stream",
     "text": [
      "Epoch: 2 \t| Train loss: 0.068 \t| Test loss: 0.001 \t| Train acc: 0.99 \t| Test acc: 0.99\n"
     ]
    },
    {
     "name": "stderr",
     "output_type": "stream",
     "text": [
      "100%|██████████| 937/937 [03:52<00:00,  4.03it/s]\n"
     ]
    },
    {
     "name": "stdout",
     "output_type": "stream",
     "text": [
      "Epoch: 3 \t| Train loss: 0.04 \t| Test loss: 0.005 \t| Train acc: 0.99 \t| Test acc: 0.99\n"
     ]
    },
    {
     "name": "stderr",
     "output_type": "stream",
     "text": [
      "100%|██████████| 937/937 [03:52<00:00,  4.04it/s]\n"
     ]
    },
    {
     "name": "stdout",
     "output_type": "stream",
     "text": [
      "Epoch: 4 \t| Train loss: 0.004 \t| Test loss: 0.0 \t| Train acc: 0.99 \t| Test acc: 0.99\n"
     ]
    },
    {
     "name": "stderr",
     "output_type": "stream",
     "text": [
      "100%|██████████| 937/937 [02:28<00:00,  6.30it/s]\n"
     ]
    },
    {
     "name": "stdout",
     "output_type": "stream",
     "text": [
      "Epoch: 0 \t| Train loss: 0.013 \t| Test loss: 0.008 \t| Train acc: 0.95 \t| Test acc: 0.97\n"
     ]
    },
    {
     "name": "stderr",
     "output_type": "stream",
     "text": [
      "100%|██████████| 937/937 [02:28<00:00,  6.31it/s]\n"
     ]
    },
    {
     "name": "stdout",
     "output_type": "stream",
     "text": [
      "Epoch: 1 \t| Train loss: 0.125 \t| Test loss: 0.029 \t| Train acc: 0.99 \t| Test acc: 0.98\n"
     ]
    },
    {
     "name": "stderr",
     "output_type": "stream",
     "text": [
      "100%|██████████| 937/937 [02:28<00:00,  6.30it/s]\n"
     ]
    },
    {
     "name": "stdout",
     "output_type": "stream",
     "text": [
      "Epoch: 2 \t| Train loss: 0.039 \t| Test loss: 0.004 \t| Train acc: 0.99 \t| Test acc: 0.99\n"
     ]
    },
    {
     "name": "stderr",
     "output_type": "stream",
     "text": [
      "100%|██████████| 937/937 [02:28<00:00,  6.30it/s]\n"
     ]
    },
    {
     "name": "stdout",
     "output_type": "stream",
     "text": [
      "Epoch: 3 \t| Train loss: 0.011 \t| Test loss: 0.0 \t| Train acc: 0.99 \t| Test acc: 0.99\n"
     ]
    },
    {
     "name": "stderr",
     "output_type": "stream",
     "text": [
      "100%|██████████| 937/937 [02:28<00:00,  6.29it/s]\n"
     ]
    },
    {
     "name": "stdout",
     "output_type": "stream",
     "text": [
      "Epoch: 4 \t| Train loss: 0.028 \t| Test loss: 0.015 \t| Train acc: 0.99 \t| Test acc: 0.98\n"
     ]
    },
    {
     "name": "stderr",
     "output_type": "stream",
     "text": [
      "100%|██████████| 937/937 [01:34<00:00,  9.92it/s]\n"
     ]
    },
    {
     "name": "stdout",
     "output_type": "stream",
     "text": [
      "Epoch: 0 \t| Train loss: 0.096 \t| Test loss: 0.028 \t| Train acc: 0.88 \t| Test acc: 0.99\n"
     ]
    },
    {
     "name": "stderr",
     "output_type": "stream",
     "text": [
      "100%|██████████| 937/937 [01:33<00:00, 10.01it/s]\n"
     ]
    },
    {
     "name": "stdout",
     "output_type": "stream",
     "text": [
      "Epoch: 1 \t| Train loss: 0.059 \t| Test loss: 0.042 \t| Train acc: 0.97 \t| Test acc: 0.99\n"
     ]
    },
    {
     "name": "stderr",
     "output_type": "stream",
     "text": [
      "100%|██████████| 937/937 [01:33<00:00,  9.99it/s]\n"
     ]
    },
    {
     "name": "stdout",
     "output_type": "stream",
     "text": [
      "Epoch: 2 \t| Train loss: 0.09 \t| Test loss: 0.013 \t| Train acc: 0.98 \t| Test acc: 0.98\n"
     ]
    },
    {
     "name": "stderr",
     "output_type": "stream",
     "text": [
      "100%|██████████| 937/937 [01:33<00:00, 10.00it/s]\n"
     ]
    },
    {
     "name": "stdout",
     "output_type": "stream",
     "text": [
      "Epoch: 3 \t| Train loss: 0.085 \t| Test loss: 0.01 \t| Train acc: 0.98 \t| Test acc: 0.99\n"
     ]
    },
    {
     "name": "stderr",
     "output_type": "stream",
     "text": [
      "100%|██████████| 937/937 [01:33<00:00, 10.00it/s]\n"
     ]
    },
    {
     "name": "stdout",
     "output_type": "stream",
     "text": [
      "Epoch: 4 \t| Train loss: 0.104 \t| Test loss: 0.003 \t| Train acc: 0.98 \t| Test acc: 0.99\n"
     ]
    }
   ],
   "source": [
    "# Codeblock 11\n",
    "\n",
    "resnet_history    = train_model(resnet, loss_function, optim_resnet, \n",
    "                                have_aux=False, epochs=5)\n",
    "\n",
    "googlenet_history = train_model(googlenet, loss_function, optim_googlenet, \n",
    "                                have_aux=True, epochs=5)\n",
    "\n",
    "vgg_history       = train_model(vgg, loss_function, optim_vgg, \n",
    "                                have_aux=False, epochs=5)\n",
    "\n",
    "mobilenet_history = train_model(mobilenet, loss_function, optim_mobilenet, \n",
    "                                have_aux=False, epochs=5)\n",
    "\n",
    "alexnet_history   = train_model(alexnet, loss_function, optim_alexnet, \n",
    "                                have_aux=False, epochs=5)\n",
    "\n",
    "# Change epoch to 10 for CIFAR-10 dataset and 15 for CIFAR-100 dataset."
   ]
  },
  {
   "cell_type": "code",
   "execution_count": 12,
   "id": "ef65f1c8",
   "metadata": {
    "execution": {
     "iopub.execute_input": "2023-01-23T07:53:52.153429Z",
     "iopub.status.busy": "2023-01-23T07:53:52.153058Z",
     "iopub.status.idle": "2023-01-23T07:53:52.171357Z",
     "shell.execute_reply": "2023-01-23T07:53:52.170464Z"
    },
    "papermill": {
     "duration": 1.140225,
     "end_time": "2023-01-23T07:53:52.173356",
     "exception": false,
     "start_time": "2023-01-23T07:53:51.033131",
     "status": "completed"
    },
    "tags": []
   },
   "outputs": [
    {
     "data": {
      "text/plain": [
       "==========================================================================================\n",
       "Layer (type:depth-idx)                   Output Shape              Param #\n",
       "==========================================================================================\n",
       "AlexNet                                  [4, 10]                   --\n",
       "├─Sequential: 1-1                        [4, 256, 6, 6]            --\n",
       "│    └─Conv2d: 2-1                       [4, 64, 55, 55]           7,808\n",
       "│    └─ReLU: 2-2                         [4, 64, 55, 55]           --\n",
       "│    └─MaxPool2d: 2-3                    [4, 64, 27, 27]           --\n",
       "│    └─Conv2d: 2-4                       [4, 192, 27, 27]          307,392\n",
       "│    └─ReLU: 2-5                         [4, 192, 27, 27]          --\n",
       "│    └─MaxPool2d: 2-6                    [4, 192, 13, 13]          --\n",
       "│    └─Conv2d: 2-7                       [4, 384, 13, 13]          663,936\n",
       "│    └─ReLU: 2-8                         [4, 384, 13, 13]          --\n",
       "│    └─Conv2d: 2-9                       [4, 256, 13, 13]          884,992\n",
       "│    └─ReLU: 2-10                        [4, 256, 13, 13]          --\n",
       "│    └─Conv2d: 2-11                      [4, 256, 13, 13]          590,080\n",
       "│    └─ReLU: 2-12                        [4, 256, 13, 13]          --\n",
       "│    └─MaxPool2d: 2-13                   [4, 256, 6, 6]            --\n",
       "├─AdaptiveAvgPool2d: 1-2                 [4, 256, 6, 6]            --\n",
       "├─Sequential: 1-3                        [4, 10]                   --\n",
       "│    └─Dropout: 2-14                     [4, 9216]                 --\n",
       "│    └─Linear: 2-15                      [4, 4096]                 37,752,832\n",
       "│    └─ReLU: 2-16                        [4, 4096]                 --\n",
       "│    └─Dropout: 2-17                     [4, 4096]                 --\n",
       "│    └─Linear: 2-18                      [4, 4096]                 16,781,312\n",
       "│    └─ReLU: 2-19                        [4, 4096]                 --\n",
       "│    └─Linear: 2-20                      [4, 10]                   40,970\n",
       "==========================================================================================\n",
       "Total params: 57,029,322\n",
       "Trainable params: 57,029,322\n",
       "Non-trainable params: 0\n",
       "Total mult-adds (G): 2.66\n",
       "==========================================================================================\n",
       "Input size (MB): 0.80\n",
       "Forward/backward pass size (MB): 15.78\n",
       "Params size (MB): 228.12\n",
       "Estimated Total Size (MB): 244.70\n",
       "=========================================================================================="
      ]
     },
     "execution_count": 12,
     "metadata": {},
     "output_type": "execute_result"
    }
   ],
   "source": [
    "# Codeblock 12\n",
    "summary(alexnet, input_size=(4,1,224,224))"
   ]
  },
  {
   "cell_type": "code",
   "execution_count": 13,
   "id": "ba0208cc",
   "metadata": {
    "execution": {
     "iopub.execute_input": "2023-01-23T07:53:54.417284Z",
     "iopub.status.busy": "2023-01-23T07:53:54.416819Z",
     "iopub.status.idle": "2023-01-23T07:53:54.719985Z",
     "shell.execute_reply": "2023-01-23T07:53:54.719046Z"
    },
    "papermill": {
     "duration": 1.427664,
     "end_time": "2023-01-23T07:53:54.722213",
     "exception": false,
     "start_time": "2023-01-23T07:53:53.294549",
     "status": "completed"
    },
    "tags": []
   },
   "outputs": [
    {
     "data": {
      "text/plain": [
       "Text(0, 0.5, 'test accuracy')"
      ]
     },
     "execution_count": 13,
     "metadata": {},
     "output_type": "execute_result"
    },
    {
     "data": {
      "image/png": "[encoded data removed]",
      "text/plain": [
       "<Figure size 720x432 with 1 Axes>"
      ]
     },
     "metadata": {
      "needs_background": "light"
     },
     "output_type": "display_data"
    }
   ],
   "source": [
    "plt.figure(figsize=(10,6))\n",
    "\n",
    "plt.plot(resnet_history[4], linewidth=3)\n",
    "plt.plot(googlenet_history[4], linewidth=3)\n",
    "plt.plot(vgg_history[4], linewidth=3)\n",
    "plt.plot(mobilenet_history[4], linewidth=3)\n",
    "plt.plot(alexnet_history[4], linewidth=3)\n",
    "\n",
    "plt.legend(['resnet', 'vgg', 'mobilenet', 'alexnet', 'googlenet'])\n",
    "\n",
    "plt.grid()\n",
    "\n",
    "plt.ylim([0,1.2])\n",
    "\n",
    "plt.xlabel('epoch')\n",
    "plt.ylabel('test accuracy')"
   ]
  }
 ],
 "metadata": {
  "kernelspec": {
   "display_name": "Python 3",
   "language": "python",
   "name": "python3"
  },
  "language_info": {
   "codemirror_mode": {
    "name": "ipython",
    "version": 3
   },
   "file_extension": ".py",
   "mimetype": "text/x-python",
   "name": "python",
   "nbconvert_exporter": "python",
   "pygments_lexer": "ipython3",
   "version": "3.7.12"
  },
  "papermill": {
   "default_parameters": {},
   "duration": 4439.695193,
   "end_time": "2023-01-23T07:54:05.757952",
   "environment_variables": {},
   "exception": null,
   "input_path": "__notebook__.ipynb",
   "output_path": "__notebook__.ipynb",
   "parameters": {},
   "start_time": "2023-01-23T06:40:06.062759",
   "version": "2.3.4"
  },
  "widgets": {
   "application/vnd.jupyter.widget-state+json": {
    "state": {
     "0193d9f860f24946b40572ba4910aec3": {
      "model_module": "@jupyter-widgets/base",
      "model_module_version": "1.2.0",
      "model_name": "LayoutModel",
      "state": {
       "_model_module": "@jupyter-widgets/base",
       "_model_module_version": "1.2.0",
       "_model_name": "LayoutModel",
       "_view_count": null,
       "_view_module": "@jupyter-widgets/base",
       "_view_module_version": "1.2.0",
       "_view_name": "LayoutView",
       "align_content": null,
       "align_items": null,
       "align_self": null,
       "border": null,
       "bottom": null,
       "display": null,
       "flex": null,
       "flex_flow": null,
       "grid_area": null,
       "grid_auto_columns": null,
       "grid_auto_flow": null,
       "grid_auto_rows": null,
       "grid_column": null,
       "grid_gap": null,
       "grid_row": null,
       "grid_template_areas": null,
       "grid_template_columns": null,
       "grid_template_rows": null,
       "height": null,
       "justify_content": null,
       "justify_items": null,
       "left": null,
       "margin": null,
       "max_height": null,
       "max_width": null,
       "min_height": null,
       "min_width": null,
       "object_fit": null,
       "object_position": null,
       "order": null,
       "overflow": null,
       "overflow_x": null,
       "overflow_y": null,
       "padding": null,
       "right": null,
       "top": null,
       "visibility": null,
       "width": null
      }
     },
     "087e722ed3d949bab91ac8f94e7be9d7": {
      "model_module": "@jupyter-widgets/base",
      "model_module_version": "1.2.0",
      "model_name": "LayoutModel",
      "state": {
       "_model_module": "@jupyter-widgets/base",
       "_model_module_version": "1.2.0",
       "_model_name": "LayoutModel",
       "_view_count": null,
       "_view_module": "@jupyter-widgets/base",
       "_view_module_version": "1.2.0",
       "_view_name": "LayoutView",
       "align_content": null,
       "align_items": null,
       "align_self": null,
       "border": null,
       "bottom": null,
       "display": null,
       "flex": null,
       "flex_flow": null,
       "grid_area": null,
       "grid_auto_columns": null,
       "grid_auto_flow": null,
       "grid_auto_rows": null,
       "grid_column": null,
       "grid_gap": null,
       "grid_row": null,
       "grid_template_areas": null,
       "grid_template_columns": null,
       "grid_template_rows": null,
       "height": null,
       "justify_content": null,
       "justify_items": null,
       "left": null,
       "margin": null,
       "max_height": null,
       "max_width": null,
       "min_height": null,
       "min_width": null,
       "object_fit": null,
       "object_position": null,
       "order": null,
       "overflow": null,
       "overflow_x": null,
       "overflow_y": null,
       "padding": null,
       "right": null,
       "top": null,
       "visibility": null,
       "width": null
      }
     },
     "0afce3ec2f184051b69d83c18e0ddef7": {
      "model_module": "@jupyter-widgets/controls",
      "model_module_version": "1.5.0",
      "model_name": "HTMLModel",
      "state": {
       "_dom_classes": [],
       "_model_module": "@jupyter-widgets/controls",
       "_model_module_version": "1.5.0",
       "_model_name": "HTMLModel",
       "_view_count": null,
       "_view_module": "@jupyter-widgets/controls",
       "_view_module_version": "1.5.0",
       "_view_name": "HTMLView",
       "description": "",
       "description_tooltip": null,
       "layout": "IPY_MODEL_54591dcf1fcf48c49fa85525fe69ec6e",
       "placeholder": "​",
       "style": "IPY_MODEL_4cf96842cd4b454ba44ae091edb3aaaa",
       "value": " 29696/? [00:00&lt;00:00, 1195129.94it/s]"
      }
     },
     "0eb7390e5c7e4628906d2b00b920ff41": {
      "model_module": "@jupyter-widgets/controls",
      "model_module_version": "1.5.0",
      "model_name": "DescriptionStyleModel",
      "state": {
       "_model_module": "@jupyter-widgets/controls",
       "_model_module_version": "1.5.0",
       "_model_name": "DescriptionStyleModel",
       "_view_count": null,
       "_view_module": "@jupyter-widgets/base",
       "_view_module_version": "1.2.0",
       "_view_name": "StyleView",
       "description_width": ""
      }
     },
     "13522d96be1940e2aee17f602ef87afc": {
      "model_module": "@jupyter-widgets/controls",
      "model_module_version": "1.5.0",
      "model_name": "ProgressStyleModel",
      "state": {
       "_model_module": "@jupyter-widgets/controls",
       "_model_module_version": "1.5.0",
       "_model_name": "ProgressStyleModel",
       "_view_count": null,
       "_view_module": "@jupyter-widgets/base",
       "_view_module_version": "1.2.0",
       "_view_name": "StyleView",
       "bar_color": null,
       "description_width": ""
      }
     },
     "179e05e8a94c44c482e8a31c718d1705": {
      "model_module": "@jupyter-widgets/controls",
      "model_module_version": "1.5.0",
      "model_name": "HBoxModel",
      "state": {
       "_dom_classes": [],
       "_model_module": "@jupyter-widgets/controls",
       "_model_module_version": "1.5.0",
       "_model_name": "HBoxModel",
       "_view_count": null,
       "_view_module": "@jupyter-widgets/controls",
       "_view_module_version": "1.5.0",
       "_view_name": "HBoxView",
       "box_style": "",
       "children": [
        "IPY_MODEL_beba8d14a9154fcb8302b94cf16944f5",
        "IPY_MODEL_3914a88b426841789ed9e3849bc51aad",
        "IPY_MODEL_5aca356652e143ffbba21448bf98bbe4"
       ],
       "layout": "IPY_MODEL_984220c0714245f3ae488e83ed20c8d8"
      }
     },
     "1fd64c9e9376433f80942d918db3dda8": {
      "model_module": "@jupyter-widgets/base",
      "model_module_version": "1.2.0",
      "model_name": "LayoutModel",
      "state": {
       "_model_module": "@jupyter-widgets/base",
       "_model_module_version": "1.2.0",
       "_model_name": "LayoutModel",
       "_view_count": null,
       "_view_module": "@jupyter-widgets/base",
       "_view_module_version": "1.2.0",
       "_view_name": "LayoutView",
       "align_content": null,
       "align_items": null,
       "align_self": null,
       "border": null,
       "bottom": null,
       "display": null,
       "flex": null,
       "flex_flow": null,
       "grid_area": null,
       "grid_auto_columns": null,
       "grid_auto_flow": null,
       "grid_auto_rows": null,
       "grid_column": null,
       "grid_gap": null,
       "grid_row": null,
       "grid_template_areas": null,
       "grid_template_columns": null,
       "grid_template_rows": null,
       "height": null,
       "justify_content": null,
       "justify_items": null,
       "left": null,
       "margin": null,
       "max_height": null,
       "max_width": null,
       "min_height": null,
       "min_width": null,
       "object_fit": null,
       "object_position": null,
       "order": null,
       "overflow": null,
       "overflow_x": null,
       "overflow_y": null,
       "padding": null,
       "right": null,
       "top": null,
       "visibility": null,
       "width": null
      }
     },
     "21046f74923646d2a0fd4cd372e10325": {
      "model_module": "@jupyter-widgets/base",
      "model_module_version": "1.2.0",
      "model_name": "LayoutModel",
      "state": {
       "_model_module": "@jupyter-widgets/base",
       "_model_module_version": "1.2.0",
       "_model_name": "LayoutModel",
       "_view_count": null,
       "_view_module": "@jupyter-widgets/base",
       "_view_module_version": "1.2.0",
       "_view_name": "LayoutView",
       "align_content": null,
       "align_items": null,
       "align_self": null,
       "border": null,
       "bottom": null,
       "display": null,
       "flex": null,
       "flex_flow": null,
       "grid_area": null,
       "grid_auto_columns": null,
       "grid_auto_flow": null,
       "grid_auto_rows": null,
       "grid_column": null,
       "grid_gap": null,
       "grid_row": null,
       "grid_template_areas": null,
       "grid_template_columns": null,
       "grid_template_rows": null,
       "height": null,
       "justify_content": null,
       "justify_items": null,
       "left": null,
       "margin": null,
       "max_height": null,
       "max_width": null,
       "min_height": null,
       "min_width": null,
       "object_fit": null,
       "object_position": null,
       "order": null,
       "overflow": null,
       "overflow_x": null,
       "overflow_y": null,
       "padding": null,
       "right": null,
       "top": null,
       "visibility": null,
       "width": null
      }
     },
     "22f2f1ca767d4a31a5e2dea150d11921": {
      "model_module": "@jupyter-widgets/controls",
      "model_module_version": "1.5.0",
      "model_name": "DescriptionStyleModel",
      "state": {
       "_model_module": "@jupyter-widgets/controls",
       "_model_module_version": "1.5.0",
       "_model_name": "DescriptionStyleModel",
       "_view_count": null,
       "_view_module": "@jupyter-widgets/base",
       "_view_module_version": "1.2.0",
       "_view_name": "StyleView",
       "description_width": ""
      }
     },
     "2e90928152b04478b9fdba83226dfd99": {
      "model_module": "@jupyter-widgets/base",
      "model_module_version": "1.2.0",
      "model_name": "LayoutModel",
      "state": {
       "_model_module": "@jupyter-widgets/base",
       "_model_module_version": "1.2.0",
       "_model_name": "LayoutModel",
       "_view_count": null,
       "_view_module": "@jupyter-widgets/base",
       "_view_module_version": "1.2.0",
       "_view_name": "LayoutView",
       "align_content": null,
       "align_items": null,
       "align_self": null,
       "border": null,
       "bottom": null,
       "display": null,
       "flex": null,
       "flex_flow": null,
       "grid_area": null,
       "grid_auto_columns": null,
       "grid_auto_flow": null,
       "grid_auto_rows": null,
       "grid_column": null,
       "grid_gap": null,
       "grid_row": null,
       "grid_template_areas": null,
       "grid_template_columns": null,
       "grid_template_rows": null,
       "height": null,
       "justify_content": null,
       "justify_items": null,
       "left": null,
       "margin": null,
       "max_height": null,
       "max_width": null,
       "min_height": null,
       "min_width": null,
       "object_fit": null,
       "object_position": null,
       "order": null,
       "overflow": null,
       "overflow_x": null,
       "overflow_y": null,
       "padding": null,
       "right": null,
       "top": null,
       "visibility": null,
       "width": null
      }
     },
     "324ee9ac60204f859106a8a7fcfdfc35": {
      "model_module": "@jupyter-widgets/controls",
      "model_module_version": "1.5.0",
      "model_name": "DescriptionStyleModel",
      "state": {
       "_model_module": "@jupyter-widgets/controls",
       "_model_module_version": "1.5.0",
       "_model_name": "DescriptionStyleModel",
       "_view_count": null,
       "_view_module": "@jupyter-widgets/base",
       "_view_module_version": "1.2.0",
       "_view_name": "StyleView",
       "description_width": ""
      }
     },
     "3914a88b426841789ed9e3849bc51aad": {
      "model_module": "@jupyter-widgets/controls",
      "model_module_version": "1.5.0",
      "model_name": "FloatProgressModel",
      "state": {
       "_dom_classes": [],
       "_model_module": "@jupyter-widgets/controls",
       "_model_module_version": "1.5.0",
       "_model_name": "FloatProgressModel",
       "_view_count": null,
       "_view_module": "@jupyter-widgets/controls",
       "_view_module_version": "1.5.0",
       "_view_name": "ProgressView",
       "bar_style": "success",
       "description": "",
       "description_tooltip": null,
       "layout": "IPY_MODEL_0193d9f860f24946b40572ba4910aec3",
       "max": 4542,
       "min": 0,
       "orientation": "horizontal",
       "style": "IPY_MODEL_13522d96be1940e2aee17f602ef87afc",
       "value": 4542
      }
     },
     "3c99ad4f6e0742aeb7a838726817ac22": {
      "model_module": "@jupyter-widgets/base",
      "model_module_version": "1.2.0",
      "model_name": "LayoutModel",
      "state": {
       "_model_module": "@jupyter-widgets/base",
       "_model_module_version": "1.2.0",
       "_model_name": "LayoutModel",
       "_view_count": null,
       "_view_module": "@jupyter-widgets/base",
       "_view_module_version": "1.2.0",
       "_view_name": "LayoutView",
       "align_content": null,
       "align_items": null,
       "align_self": null,
       "border": null,
       "bottom": null,
       "display": null,
       "flex": null,
       "flex_flow": null,
       "grid_area": null,
       "grid_auto_columns": null,
       "grid_auto_flow": null,
       "grid_auto_rows": null,
       "grid_column": null,
       "grid_gap": null,
       "grid_row": null,
       "grid_template_areas": null,
       "grid_template_columns": null,
       "grid_template_rows": null,
       "height": null,
       "justify_content": null,
       "justify_items": null,
       "left": null,
       "margin": null,
       "max_height": null,
       "max_width": null,
       "min_height": null,
       "min_width": null,
       "object_fit": null,
       "object_position": null,
       "order": null,
       "overflow": null,
       "overflow_x": null,
       "overflow_y": null,
       "padding": null,
       "right": null,
       "top": null,
       "visibility": null,
       "width": null
      }
     },
     "427e5e04df3b442589506233131a99de": {
      "model_module": "@jupyter-widgets/controls",
      "model_module_version": "1.5.0",
      "model_name": "HBoxModel",
      "state": {
       "_dom_classes": [],
       "_model_module": "@jupyter-widgets/controls",
       "_model_module_version": "1.5.0",
       "_model_name": "HBoxModel",
       "_view_count": null,
       "_view_module": "@jupyter-widgets/controls",
       "_view_module_version": "1.5.0",
       "_view_name": "HBoxView",
       "box_style": "",
       "children": [
        "IPY_MODEL_ed64605fe7f7404c94c115bfd0e67153",
        "IPY_MODEL_c7774daf7b6d4fd7a657f280dd6df38b",
        "IPY_MODEL_ff0bd8d10ceb482d877dd70e6d48f022"
       ],
       "layout": "IPY_MODEL_cbe14a3ef00f408591f99ac6b96922c3"
      }
     },
     "43899dca66fd4e8089950604d64f5348": {
      "model_module": "@jupyter-widgets/controls",
      "model_module_version": "1.5.0",
      "model_name": "HBoxModel",
      "state": {
       "_dom_classes": [],
       "_model_module": "@jupyter-widgets/controls",
       "_model_module_version": "1.5.0",
       "_model_name": "HBoxModel",
       "_view_count": null,
       "_view_module": "@jupyter-widgets/controls",
       "_view_module_version": "1.5.0",
       "_view_name": "HBoxView",
       "box_style": "",
       "children": [
        "IPY_MODEL_4c8c26a1166245fa85595e64b1119303",
        "IPY_MODEL_67d987c3b8b0448a96a4b159fd92fabb",
        "IPY_MODEL_0afce3ec2f184051b69d83c18e0ddef7"
       ],
       "layout": "IPY_MODEL_a9285f530bea4bb4a7c532d3110e75f7"
      }
     },
     "4514edc192ea41ce9b028cd1f33685e4": {
      "model_module": "@jupyter-widgets/controls",
      "model_module_version": "1.5.0",
      "model_name": "DescriptionStyleModel",
      "state": {
       "_model_module": "@jupyter-widgets/controls",
       "_model_module_version": "1.5.0",
       "_model_name": "DescriptionStyleModel",
       "_view_count": null,
       "_view_module": "@jupyter-widgets/base",
       "_view_module_version": "1.2.0",
       "_view_name": "StyleView",
       "description_width": ""
      }
     },
     "4c8c26a1166245fa85595e64b1119303": {
      "model_module": "@jupyter-widgets/controls",
      "model_module_version": "1.5.0",
      "model_name": "HTMLModel",
      "state": {
       "_dom_classes": [],
       "_model_module": "@jupyter-widgets/controls",
       "_model_module_version": "1.5.0",
       "_model_name": "HTMLModel",
       "_view_count": null,
       "_view_module": "@jupyter-widgets/controls",
       "_view_module_version": "1.5.0",
       "_view_name": "HTMLView",
       "description": "",
       "description_tooltip": null,
       "layout": "IPY_MODEL_3c99ad4f6e0742aeb7a838726817ac22",
       "placeholder": "​",
       "style": "IPY_MODEL_0eb7390e5c7e4628906d2b00b920ff41",
       "value": ""
      }
     },
     "4cf96842cd4b454ba44ae091edb3aaaa": {
      "model_module": "@jupyter-widgets/controls",
      "model_module_version": "1.5.0",
      "model_name": "DescriptionStyleModel",
      "state": {
       "_model_module": "@jupyter-widgets/controls",
       "_model_module_version": "1.5.0",
       "_model_name": "DescriptionStyleModel",
       "_view_count": null,
       "_view_module": "@jupyter-widgets/base",
       "_view_module_version": "1.2.0",
       "_view_name": "StyleView",
       "description_width": ""
      }
     },
     "52562f2df1cb45b194e199c92770d37a": {
      "model_module": "@jupyter-widgets/base",
      "model_module_version": "1.2.0",
      "model_name": "LayoutModel",
      "state": {
       "_model_module": "@jupyter-widgets/base",
       "_model_module_version": "1.2.0",
       "_model_name": "LayoutModel",
       "_view_count": null,
       "_view_module": "@jupyter-widgets/base",
       "_view_module_version": "1.2.0",
       "_view_name": "LayoutView",
       "align_content": null,
       "align_items": null,
       "align_self": null,
       "border": null,
       "bottom": null,
       "display": null,
       "flex": null,
       "flex_flow": null,
       "grid_area": null,
       "grid_auto_columns": null,
       "grid_auto_flow": null,
       "grid_auto_rows": null,
       "grid_column": null,
       "grid_gap": null,
       "grid_row": null,
       "grid_template_areas": null,
       "grid_template_columns": null,
       "grid_template_rows": null,
       "height": null,
       "justify_content": null,
       "justify_items": null,
       "left": null,
       "margin": null,
       "max_height": null,
       "max_width": null,
       "min_height": null,
       "min_width": null,
       "object_fit": null,
       "object_position": null,
       "order": null,
       "overflow": null,
       "overflow_x": null,
       "overflow_y": null,
       "padding": null,
       "right": null,
       "top": null,
       "visibility": null,
       "width": null
      }
     },
     "54591dcf1fcf48c49fa85525fe69ec6e": {
      "model_module": "@jupyter-widgets/base",
      "model_module_version": "1.2.0",
      "model_name": "LayoutModel",
      "state": {
       "_model_module": "@jupyter-widgets/base",
       "_model_module_version": "1.2.0",
       "_model_name": "LayoutModel",
       "_view_count": null,
       "_view_module": "@jupyter-widgets/base",
       "_view_module_version": "1.2.0",
       "_view_name": "LayoutView",
       "align_content": null,
       "align_items": null,
       "align_self": null,
       "border": null,
       "bottom": null,
       "display": null,
       "flex": null,
       "flex_flow": null,
       "grid_area": null,
       "grid_auto_columns": null,
       "grid_auto_flow": null,
       "grid_auto_rows": null,
       "grid_column": null,
       "grid_gap": null,
       "grid_row": null,
       "grid_template_areas": null,
       "grid_template_columns": null,
       "grid_template_rows": null,
       "height": null,
       "justify_content": null,
       "justify_items": null,
       "left": null,
       "margin": null,
       "max_height": null,
       "max_width": null,
       "min_height": null,
       "min_width": null,
       "object_fit": null,
       "object_position": null,
       "order": null,
       "overflow": null,
       "overflow_x": null,
       "overflow_y": null,
       "padding": null,
       "right": null,
       "top": null,
       "visibility": null,
       "width": null
      }
     },
     "5aca356652e143ffbba21448bf98bbe4": {
      "model_module": "@jupyter-widgets/controls",
      "model_module_version": "1.5.0",
      "model_name": "HTMLModel",
      "state": {
       "_dom_classes": [],
       "_model_module": "@jupyter-widgets/controls",
       "_model_module_version": "1.5.0",
       "_model_name": "HTMLModel",
       "_view_count": null,
       "_view_module": "@jupyter-widgets/controls",
       "_view_module_version": "1.5.0",
       "_view_name": "HTMLView",
       "description": "",
       "description_tooltip": null,
       "layout": "IPY_MODEL_77c3553151e74024b4588dee37765769",
       "placeholder": "​",
       "style": "IPY_MODEL_f30f6b43c0f140169aad725e355a5784",
       "value": " 5120/? [00:00&lt;00:00, 212032.23it/s]"
      }
     },
     "61b94b8454924a6e9674b7b99dc981c6": {
      "model_module": "@jupyter-widgets/controls",
      "model_module_version": "1.5.0",
      "model_name": "HBoxModel",
      "state": {
       "_dom_classes": [],
       "_model_module": "@jupyter-widgets/controls",
       "_model_module_version": "1.5.0",
       "_model_name": "HBoxModel",
       "_view_count": null,
       "_view_module": "@jupyter-widgets/controls",
       "_view_module_version": "1.5.0",
       "_view_name": "HBoxView",
       "box_style": "",
       "children": [
        "IPY_MODEL_cc4008e00243410384d9b449fdbea624",
        "IPY_MODEL_7cd825bd2f694df3a572b4c475bf8219",
        "IPY_MODEL_fcd7c1bd24194c5bbe293dbabb2109a2"
       ],
       "layout": "IPY_MODEL_9dd3e1ef629844aebe2e46e2c1b7e3b0"
      }
     },
     "67d987c3b8b0448a96a4b159fd92fabb": {
      "model_module": "@jupyter-widgets/controls",
      "model_module_version": "1.5.0",
      "model_name": "FloatProgressModel",
      "state": {
       "_dom_classes": [],
       "_model_module": "@jupyter-widgets/controls",
       "_model_module_version": "1.5.0",
       "_model_name": "FloatProgressModel",
       "_view_count": null,
       "_view_module": "@jupyter-widgets/controls",
       "_view_module_version": "1.5.0",
       "_view_name": "ProgressView",
       "bar_style": "success",
       "description": "",
       "description_tooltip": null,
       "layout": "IPY_MODEL_2e90928152b04478b9fdba83226dfd99",
       "max": 28881,
       "min": 0,
       "orientation": "horizontal",
       "style": "IPY_MODEL_d875065a258940b7bc56c37d9c9ce066",
       "value": 28881
      }
     },
     "6bb3cd85830243f39a6224bb6d85cc95": {
      "model_module": "@jupyter-widgets/controls",
      "model_module_version": "1.5.0",
      "model_name": "ProgressStyleModel",
      "state": {
       "_model_module": "@jupyter-widgets/controls",
       "_model_module_version": "1.5.0",
       "_model_name": "ProgressStyleModel",
       "_view_count": null,
       "_view_module": "@jupyter-widgets/base",
       "_view_module_version": "1.2.0",
       "_view_name": "StyleView",
       "bar_color": null,
       "description_width": ""
      }
     },
     "77c3553151e74024b4588dee37765769": {
      "model_module": "@jupyter-widgets/base",
      "model_module_version": "1.2.0",
      "model_name": "LayoutModel",
      "state": {
       "_model_module": "@jupyter-widgets/base",
       "_model_module_version": "1.2.0",
       "_model_name": "LayoutModel",
       "_view_count": null,
       "_view_module": "@jupyter-widgets/base",
       "_view_module_version": "1.2.0",
       "_view_name": "LayoutView",
       "align_content": null,
       "align_items": null,
       "align_self": null,
       "border": null,
       "bottom": null,
       "display": null,
       "flex": null,
       "flex_flow": null,
       "grid_area": null,
       "grid_auto_columns": null,
       "grid_auto_flow": null,
       "grid_auto_rows": null,
       "grid_column": null,
       "grid_gap": null,
       "grid_row": null,
       "grid_template_areas": null,
       "grid_template_columns": null,
       "grid_template_rows": null,
       "height": null,
       "justify_content": null,
       "justify_items": null,
       "left": null,
       "margin": null,
       "max_height": null,
       "max_width": null,
       "min_height": null,
       "min_width": null,
       "object_fit": null,
       "object_position": null,
       "order": null,
       "overflow": null,
       "overflow_x": null,
       "overflow_y": null,
       "padding": null,
       "right": null,
       "top": null,
       "visibility": null,
       "width": null
      }
     },
     "7cd825bd2f694df3a572b4c475bf8219": {
      "model_module": "@jupyter-widgets/controls",
      "model_module_version": "1.5.0",
      "model_name": "FloatProgressModel",
      "state": {
       "_dom_classes": [],
       "_model_module": "@jupyter-widgets/controls",
       "_model_module_version": "1.5.0",
       "_model_name": "FloatProgressModel",
       "_view_count": null,
       "_view_module": "@jupyter-widgets/controls",
       "_view_module_version": "1.5.0",
       "_view_name": "ProgressView",
       "bar_style": "success",
       "description": "",
       "description_tooltip": null,
       "layout": "IPY_MODEL_087e722ed3d949bab91ac8f94e7be9d7",
       "max": 1648877,
       "min": 0,
       "orientation": "horizontal",
       "style": "IPY_MODEL_f34472609f674a1eb81350020aeed533",
       "value": 1648877
      }
     },
     "976d7562e44c4431ac1cb642b7f45964": {
      "model_module": "@jupyter-widgets/base",
      "model_module_version": "1.2.0",
      "model_name": "LayoutModel",
      "state": {
       "_model_module": "@jupyter-widgets/base",
       "_model_module_version": "1.2.0",
       "_model_name": "LayoutModel",
       "_view_count": null,
       "_view_module": "@jupyter-widgets/base",
       "_view_module_version": "1.2.0",
       "_view_name": "LayoutView",
       "align_content": null,
       "align_items": null,
       "align_self": null,
       "border": null,
       "bottom": null,
       "display": null,
       "flex": null,
       "flex_flow": null,
       "grid_area": null,
       "grid_auto_columns": null,
       "grid_auto_flow": null,
       "grid_auto_rows": null,
       "grid_column": null,
       "grid_gap": null,
       "grid_row": null,
       "grid_template_areas": null,
       "grid_template_columns": null,
       "grid_template_rows": null,
       "height": null,
       "justify_content": null,
       "justify_items": null,
       "left": null,
       "margin": null,
       "max_height": null,
       "max_width": null,
       "min_height": null,
       "min_width": null,
       "object_fit": null,
       "object_position": null,
       "order": null,
       "overflow": null,
       "overflow_x": null,
       "overflow_y": null,
       "padding": null,
       "right": null,
       "top": null,
       "visibility": null,
       "width": null
      }
     },
     "984220c0714245f3ae488e83ed20c8d8": {
      "model_module": "@jupyter-widgets/base",
      "model_module_version": "1.2.0",
      "model_name": "LayoutModel",
      "state": {
       "_model_module": "@jupyter-widgets/base",
       "_model_module_version": "1.2.0",
       "_model_name": "LayoutModel",
       "_view_count": null,
       "_view_module": "@jupyter-widgets/base",
       "_view_module_version": "1.2.0",
       "_view_name": "LayoutView",
       "align_content": null,
       "align_items": null,
       "align_self": null,
       "border": null,
       "bottom": null,
       "display": null,
       "flex": null,
       "flex_flow": null,
       "grid_area": null,
       "grid_auto_columns": null,
       "grid_auto_flow": null,
       "grid_auto_rows": null,
       "grid_column": null,
       "grid_gap": null,
       "grid_row": null,
       "grid_template_areas": null,
       "grid_template_columns": null,
       "grid_template_rows": null,
       "height": null,
       "justify_content": null,
       "justify_items": null,
       "left": null,
       "margin": null,
       "max_height": null,
       "max_width": null,
       "min_height": null,
       "min_width": null,
       "object_fit": null,
       "object_position": null,
       "order": null,
       "overflow": null,
       "overflow_x": null,
       "overflow_y": null,
       "padding": null,
       "right": null,
       "top": null,
       "visibility": null,
       "width": null
      }
     },
     "9dd3e1ef629844aebe2e46e2c1b7e3b0": {
      "model_module": "@jupyter-widgets/base",
      "model_module_version": "1.2.0",
      "model_name": "LayoutModel",
      "state": {
       "_model_module": "@jupyter-widgets/base",
       "_model_module_version": "1.2.0",
       "_model_name": "LayoutModel",
       "_view_count": null,
       "_view_module": "@jupyter-widgets/base",
       "_view_module_version": "1.2.0",
       "_view_name": "LayoutView",
       "align_content": null,
       "align_items": null,
       "align_self": null,
       "border": null,
       "bottom": null,
       "display": null,
       "flex": null,
       "flex_flow": null,
       "grid_area": null,
       "grid_auto_columns": null,
       "grid_auto_flow": null,
       "grid_auto_rows": null,
       "grid_column": null,
       "grid_gap": null,
       "grid_row": null,
       "grid_template_areas": null,
       "grid_template_columns": null,
       "grid_template_rows": null,
       "height": null,
       "justify_content": null,
       "justify_items": null,
       "left": null,
       "margin": null,
       "max_height": null,
       "max_width": null,
       "min_height": null,
       "min_width": null,
       "object_fit": null,
       "object_position": null,
       "order": null,
       "overflow": null,
       "overflow_x": null,
       "overflow_y": null,
       "padding": null,
       "right": null,
       "top": null,
       "visibility": null,
       "width": null
      }
     },
     "a9285f530bea4bb4a7c532d3110e75f7": {
      "model_module": "@jupyter-widgets/base",
      "model_module_version": "1.2.0",
      "model_name": "LayoutModel",
      "state": {
       "_model_module": "@jupyter-widgets/base",
       "_model_module_version": "1.2.0",
       "_model_name": "LayoutModel",
       "_view_count": null,
       "_view_module": "@jupyter-widgets/base",
       "_view_module_version": "1.2.0",
       "_view_name": "LayoutView",
       "align_content": null,
       "align_items": null,
       "align_self": null,
       "border": null,
       "bottom": null,
       "display": null,
       "flex": null,
       "flex_flow": null,
       "grid_area": null,
       "grid_auto_columns": null,
       "grid_auto_flow": null,
       "grid_auto_rows": null,
       "grid_column": null,
       "grid_gap": null,
       "grid_row": null,
       "grid_template_areas": null,
       "grid_template_columns": null,
       "grid_template_rows": null,
       "height": null,
       "justify_content": null,
       "justify_items": null,
       "left": null,
       "margin": null,
       "max_height": null,
       "max_width": null,
       "min_height": null,
       "min_width": null,
       "object_fit": null,
       "object_position": null,
       "order": null,
       "overflow": null,
       "overflow_x": null,
       "overflow_y": null,
       "padding": null,
       "right": null,
       "top": null,
       "visibility": null,
       "width": null
      }
     },
     "b174821850ce4197b6ea8ba5ad6a40d9": {
      "model_module": "@jupyter-widgets/base",
      "model_module_version": "1.2.0",
      "model_name": "LayoutModel",
      "state": {
       "_model_module": "@jupyter-widgets/base",
       "_model_module_version": "1.2.0",
       "_model_name": "LayoutModel",
       "_view_count": null,
       "_view_module": "@jupyter-widgets/base",
       "_view_module_version": "1.2.0",
       "_view_name": "LayoutView",
       "align_content": null,
       "align_items": null,
       "align_self": null,
       "border": null,
       "bottom": null,
       "display": null,
       "flex": null,
       "flex_flow": null,
       "grid_area": null,
       "grid_auto_columns": null,
       "grid_auto_flow": null,
       "grid_auto_rows": null,
       "grid_column": null,
       "grid_gap": null,
       "grid_row": null,
       "grid_template_areas": null,
       "grid_template_columns": null,
       "grid_template_rows": null,
       "height": null,
       "justify_content": null,
       "justify_items": null,
       "left": null,
       "margin": null,
       "max_height": null,
       "max_width": null,
       "min_height": null,
       "min_width": null,
       "object_fit": null,
       "object_position": null,
       "order": null,
       "overflow": null,
       "overflow_x": null,
       "overflow_y": null,
       "padding": null,
       "right": null,
       "top": null,
       "visibility": null,
       "width": null
      }
     },
     "beba8d14a9154fcb8302b94cf16944f5": {
      "model_module": "@jupyter-widgets/controls",
      "model_module_version": "1.5.0",
      "model_name": "HTMLModel",
      "state": {
       "_dom_classes": [],
       "_model_module": "@jupyter-widgets/controls",
       "_model_module_version": "1.5.0",
       "_model_name": "HTMLModel",
       "_view_count": null,
       "_view_module": "@jupyter-widgets/controls",
       "_view_module_version": "1.5.0",
       "_view_name": "HTMLView",
       "description": "",
       "description_tooltip": null,
       "layout": "IPY_MODEL_976d7562e44c4431ac1cb642b7f45964",
       "placeholder": "​",
       "style": "IPY_MODEL_dcfff092b6944b4aac5fe5a0cb987727",
       "value": ""
      }
     },
     "c7774daf7b6d4fd7a657f280dd6df38b": {
      "model_module": "@jupyter-widgets/controls",
      "model_module_version": "1.5.0",
      "model_name": "FloatProgressModel",
      "state": {
       "_dom_classes": [],
       "_model_module": "@jupyter-widgets/controls",
       "_model_module_version": "1.5.0",
       "_model_name": "FloatProgressModel",
       "_view_count": null,
       "_view_module": "@jupyter-widgets/controls",
       "_view_module_version": "1.5.0",
       "_view_name": "ProgressView",
       "bar_style": "success",
       "description": "",
       "description_tooltip": null,
       "layout": "IPY_MODEL_21046f74923646d2a0fd4cd372e10325",
       "max": 9912422,
       "min": 0,
       "orientation": "horizontal",
       "style": "IPY_MODEL_6bb3cd85830243f39a6224bb6d85cc95",
       "value": 9912422
      }
     },
     "cbe14a3ef00f408591f99ac6b96922c3": {
      "model_module": "@jupyter-widgets/base",
      "model_module_version": "1.2.0",
      "model_name": "LayoutModel",
      "state": {
       "_model_module": "@jupyter-widgets/base",
       "_model_module_version": "1.2.0",
       "_model_name": "LayoutModel",
       "_view_count": null,
       "_view_module": "@jupyter-widgets/base",
       "_view_module_version": "1.2.0",
       "_view_name": "LayoutView",
       "align_content": null,
       "align_items": null,
       "align_self": null,
       "border": null,
       "bottom": null,
       "display": null,
       "flex": null,
       "flex_flow": null,
       "grid_area": null,
       "grid_auto_columns": null,
       "grid_auto_flow": null,
       "grid_auto_rows": null,
       "grid_column": null,
       "grid_gap": null,
       "grid_row": null,
       "grid_template_areas": null,
       "grid_template_columns": null,
       "grid_template_rows": null,
       "height": null,
       "justify_content": null,
       "justify_items": null,
       "left": null,
       "margin": null,
       "max_height": null,
       "max_width": null,
       "min_height": null,
       "min_width": null,
       "object_fit": null,
       "object_position": null,
       "order": null,
       "overflow": null,
       "overflow_x": null,
       "overflow_y": null,
       "padding": null,
       "right": null,
       "top": null,
       "visibility": null,
       "width": null
      }
     },
     "cc4008e00243410384d9b449fdbea624": {
      "model_module": "@jupyter-widgets/controls",
      "model_module_version": "1.5.0",
      "model_name": "HTMLModel",
      "state": {
       "_dom_classes": [],
       "_model_module": "@jupyter-widgets/controls",
       "_model_module_version": "1.5.0",
       "_model_name": "HTMLModel",
       "_view_count": null,
       "_view_module": "@jupyter-widgets/controls",
       "_view_module_version": "1.5.0",
       "_view_name": "HTMLView",
       "description": "",
       "description_tooltip": null,
       "layout": "IPY_MODEL_52562f2df1cb45b194e199c92770d37a",
       "placeholder": "​",
       "style": "IPY_MODEL_324ee9ac60204f859106a8a7fcfdfc35",
       "value": ""
      }
     },
     "d23c3de3a4294ec7a87a89789f395f4b": {
      "model_module": "@jupyter-widgets/base",
      "model_module_version": "1.2.0",
      "model_name": "LayoutModel",
      "state": {
       "_model_module": "@jupyter-widgets/base",
       "_model_module_version": "1.2.0",
       "_model_name": "LayoutModel",
       "_view_count": null,
       "_view_module": "@jupyter-widgets/base",
       "_view_module_version": "1.2.0",
       "_view_name": "LayoutView",
       "align_content": null,
       "align_items": null,
       "align_self": null,
       "border": null,
       "bottom": null,
       "display": null,
       "flex": null,
       "flex_flow": null,
       "grid_area": null,
       "grid_auto_columns": null,
       "grid_auto_flow": null,
       "grid_auto_rows": null,
       "grid_column": null,
       "grid_gap": null,
       "grid_row": null,
       "grid_template_areas": null,
       "grid_template_columns": null,
       "grid_template_rows": null,
       "height": null,
       "justify_content": null,
       "justify_items": null,
       "left": null,
       "margin": null,
       "max_height": null,
       "max_width": null,
       "min_height": null,
       "min_width": null,
       "object_fit": null,
       "object_position": null,
       "order": null,
       "overflow": null,
       "overflow_x": null,
       "overflow_y": null,
       "padding": null,
       "right": null,
       "top": null,
       "visibility": null,
       "width": null
      }
     },
     "d875065a258940b7bc56c37d9c9ce066": {
      "model_module": "@jupyter-widgets/controls",
      "model_module_version": "1.5.0",
      "model_name": "ProgressStyleModel",
      "state": {
       "_model_module": "@jupyter-widgets/controls",
       "_model_module_version": "1.5.0",
       "_model_name": "ProgressStyleModel",
       "_view_count": null,
       "_view_module": "@jupyter-widgets/base",
       "_view_module_version": "1.2.0",
       "_view_name": "StyleView",
       "bar_color": null,
       "description_width": ""
      }
     },
     "dcfff092b6944b4aac5fe5a0cb987727": {
      "model_module": "@jupyter-widgets/controls",
      "model_module_version": "1.5.0",
      "model_name": "DescriptionStyleModel",
      "state": {
       "_model_module": "@jupyter-widgets/controls",
       "_model_module_version": "1.5.0",
       "_model_name": "DescriptionStyleModel",
       "_view_count": null,
       "_view_module": "@jupyter-widgets/base",
       "_view_module_version": "1.2.0",
       "_view_name": "StyleView",
       "description_width": ""
      }
     },
     "ed64605fe7f7404c94c115bfd0e67153": {
      "model_module": "@jupyter-widgets/controls",
      "model_module_version": "1.5.0",
      "model_name": "HTMLModel",
      "state": {
       "_dom_classes": [],
       "_model_module": "@jupyter-widgets/controls",
       "_model_module_version": "1.5.0",
       "_model_name": "HTMLModel",
       "_view_count": null,
       "_view_module": "@jupyter-widgets/controls",
       "_view_module_version": "1.5.0",
       "_view_name": "HTMLView",
       "description": "",
       "description_tooltip": null,
       "layout": "IPY_MODEL_b174821850ce4197b6ea8ba5ad6a40d9",
       "placeholder": "​",
       "style": "IPY_MODEL_4514edc192ea41ce9b028cd1f33685e4",
       "value": ""
      }
     },
     "ef9e9cc5953049579b83ca76c9817e6c": {
      "model_module": "@jupyter-widgets/controls",
      "model_module_version": "1.5.0",
      "model_name": "DescriptionStyleModel",
      "state": {
       "_model_module": "@jupyter-widgets/controls",
       "_model_module_version": "1.5.0",
       "_model_name": "DescriptionStyleModel",
       "_view_count": null,
       "_view_module": "@jupyter-widgets/base",
       "_view_module_version": "1.2.0",
       "_view_name": "StyleView",
       "description_width": ""
      }
     },
     "f30f6b43c0f140169aad725e355a5784": {
      "model_module": "@jupyter-widgets/controls",
      "model_module_version": "1.5.0",
      "model_name": "DescriptionStyleModel",
      "state": {
       "_model_module": "@jupyter-widgets/controls",
       "_model_module_version": "1.5.0",
       "_model_name": "DescriptionStyleModel",
       "_view_count": null,
       "_view_module": "@jupyter-widgets/base",
       "_view_module_version": "1.2.0",
       "_view_name": "StyleView",
       "description_width": ""
      }
     },
     "f34472609f674a1eb81350020aeed533": {
      "model_module": "@jupyter-widgets/controls",
      "model_module_version": "1.5.0",
      "model_name": "ProgressStyleModel",
      "state": {
       "_model_module": "@jupyter-widgets/controls",
       "_model_module_version": "1.5.0",
       "_model_name": "ProgressStyleModel",
       "_view_count": null,
       "_view_module": "@jupyter-widgets/base",
       "_view_module_version": "1.2.0",
       "_view_name": "StyleView",
       "bar_color": null,
       "description_width": ""
      }
     },
     "fcd7c1bd24194c5bbe293dbabb2109a2": {
      "model_module": "@jupyter-widgets/controls",
      "model_module_version": "1.5.0",
      "model_name": "HTMLModel",
      "state": {
       "_dom_classes": [],
       "_model_module": "@jupyter-widgets/controls",
       "_model_module_version": "1.5.0",
       "_model_name": "HTMLModel",
       "_view_count": null,
       "_view_module": "@jupyter-widgets/controls",
       "_view_module_version": "1.5.0",
       "_view_name": "HTMLView",
       "description": "",
       "description_tooltip": null,
       "layout": "IPY_MODEL_d23c3de3a4294ec7a87a89789f395f4b",
       "placeholder": "​",
       "style": "IPY_MODEL_22f2f1ca767d4a31a5e2dea150d11921",
       "value": " 1649664/? [00:00&lt;00:00, 41769698.43it/s]"
      }
     },
     "ff0bd8d10ceb482d877dd70e6d48f022": {
      "model_module": "@jupyter-widgets/controls",
      "model_module_version": "1.5.0",
      "model_name": "HTMLModel",
      "state": {
       "_dom_classes": [],
       "_model_module": "@jupyter-widgets/controls",
       "_model_module_version": "1.5.0",
       "_model_name": "HTMLModel",
       "_view_count": null,
       "_view_module": "@jupyter-widgets/controls",
       "_view_module_version": "1.5.0",
       "_view_name": "HTMLView",
       "description": "",
       "description_tooltip": null,
       "layout": "IPY_MODEL_1fd64c9e9376433f80942d918db3dda8",
       "placeholder": "​",
       "style": "IPY_MODEL_ef9e9cc5953049579b83ca76c9817e6c",
       "value": " 9913344/? [00:00&lt;00:00, 99794021.88it/s]"
      }
     }
    },
    "version_major": 2,
    "version_minor": 0
   }
  }
 },
 "nbformat": 4,
 "nbformat_minor": 5
}
